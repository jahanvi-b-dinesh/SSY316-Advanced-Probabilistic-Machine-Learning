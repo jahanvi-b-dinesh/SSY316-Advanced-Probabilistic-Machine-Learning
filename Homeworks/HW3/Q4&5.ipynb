{
 "cells": [
  {
   "cell_type": "code",
   "execution_count": null,
   "metadata": {},
   "outputs": [
    {
     "name": "stderr",
     "output_type": "stream",
     "text": [
      "C:\\Users\\Jahanvi B Dinesh\\AppData\\Local\\Temp\\ipykernel_17264\\1762469038.py:2: DeprecationWarning: \n",
      "Pyarrow will become a required dependency of pandas in the next major release of pandas (pandas 3.0),\n",
      "(to allow more performant data types, such as the Arrow string type, and better interoperability with other libraries)\n",
      "but was not found to be installed on your system.\n",
      "If this would cause problems for you,\n",
      "please provide us feedback at https://github.com/pandas-dev/pandas/issues/54466\n",
      "        \n",
      "  import pandas as pd\n"
     ]
    }
   ],
   "source": [
    "import numpy as np\n",
    "import pandas as pd\n",
    "from sklearn.metrics import (\n",
    "    accuracy_score,\n",
    "    precision_score,\n",
    "    recall_score,\n",
    "    f1_score,\n",
    "    roc_curve,\n",
    "    auc,\n",
    ")\n",
    "from sklearn.model_selection import train_test_split\n",
    "import matplotlib.pyplot as plt\n",
    "from sklearn.linear_model import LogisticRegression"
   ]
  },
  {
   "cell_type": "code",
   "execution_count": null,
   "metadata": {},
   "outputs": [],
   "source": [
    "# Load and preprocess data\n",
    "def Normalize(X):\n",
    "    mean = np.mean(X, axis=0)  # Mean for each feature\n",
    "    std = np.std(X, axis=0)    # Standard deviation for each feature\n",
    "    return (X - mean) / std                      # TODO: Implement the normalization function\n",
    "\n",
    "\n",
    "def load_data():\n",
    "    # url_hospital = \"https://archive.ics.uci.edu/ml/machine-learning-databases/haberman/haberman.data\"\n",
    "    data = pd.read_csv(\n",
    "        \"haberman.csv\",\n",
    "        header=None,\n",
    "        names=[\"age\", \"year\", \"nodes_detected\", \"survival_status\"],\n",
    "    )\n",
    "    X = data.iloc[:, :3].to_numpy()\n",
    "    y = (data.iloc[:, 3] == 1).astype(int)  # Convert survival status to binary\n",
    "    X = Normalize(X)\n",
    "\n",
    "    return X, y"
   ]
  },
  {
   "cell_type": "code",
   "execution_count": null,
   "metadata": {},
   "outputs": [],
   "source": [
    "# Logistic function\n",
    "def sigmoid(x):\n",
    "    return 1 / (1 + np.exp(-x))                        # TODO: Implement the sigmoid function\n",
    "\n",
    "\n",
    "# Negative Log-Likelihood\n",
    "def nll(beta, X, y):\n",
    "    probabilities = sigmoid(X @ beta)\n",
    "    nll = -np.sum(y * np.log(probabilities) + (1 - y) * np.log(1 - probabilities))\n",
    "    return nll                                          # TODO: Implement NLL function\n",
    "\n",
    "\n",
    "# Gradient of NLL\n",
    "def gradientf(beta, X, y):\n",
    "    probabilities = sigmoid(X @ beta)\n",
    "    return X.T @ (probabilities - y)     # TODO: Implement the gradient of NLL\n",
    "\n",
    "\n",
    "# Hessian of NLL\n",
    "def hessianf(beta, X):\n",
    "    probabilities = sigmoid(X @ beta)\n",
    "    W = np.diag(probabilities * (1 - probabilities))\n",
    "    return X.T @ W @ X       # TODO: Implement the hessian of NLL"
   ]
  },
  {
   "cell_type": "code",
   "execution_count": null,
   "metadata": {},
   "outputs": [],
   "source": [
    "# Newton-Raphson optimization\n",
    "def newton_raphson(X, y, tol=1e-6, max_iter=100):\n",
    "    beta = np.zeros(X.shape[1])  # Initialize beta\n",
    "    for _ in range(max_iter):\n",
    "        gradient = gradientf(beta, X, y)\n",
    "        hessian = hessianf(beta, X)\n",
    "        beta_new = beta - np.linalg.inv(hessian) @ gradient\n",
    "        if np.linalg.norm(beta_new - beta, ord=2) < tol:\n",
    "            break\n",
    "        beta = beta_new\n",
    "    return beta    # TODO: Implement the Newton-Raphson optimization\n"
   ]
  },
  {
   "cell_type": "code",
   "execution_count": null,
   "metadata": {},
   "outputs": [],
   "source": [
    "def predict(X, beta):\n",
    "    threshold = 0.5\n",
    "    probabilities = sigmoid(X @ beta)  # Compute probabilities using logistic function\n",
    "    return (probabilities >= threshold).astype(int)    # TODO: Implement the prediction function"
   ]
  },
  {
   "cell_type": "code",
   "execution_count": null,
   "metadata": {},
   "outputs": [
    {
     "name": "stdout",
     "output_type": "stream",
     "text": [
      "Newton Raphson Accuracy: 0.66\n",
      "Newton Raphson Precision: 0.76\n",
      "Newton Raphson Recall: 0.77\n",
      "Newton Raphson F1 Score: 0.76\n"
     ]
    }
   ],
   "source": [
    "# Main workflow\n",
    "\n",
    "# Load and preprocess data\n",
    "X, y = load_data()\n",
    "\n",
    "# Split data into training and test sets\n",
    "X_train, X_test, y_train, y_test = train_test_split(\n",
    "    X, y, test_size=0.2, random_state=42\n",
    ")\n",
    "\n",
    "# Train logistic regression model\n",
    "beta = newton_raphson(X_train, y_train)\n",
    "\n",
    "# Predictions and evaluation metrics for Newton Raphson\n",
    "NP_preds = predict(X_test, beta)\n",
    "NP_accuracy = accuracy_score(y_test, NP_preds)\n",
    "NP_precision = precision_score(y_test, NP_preds)\n",
    "NP_recall = recall_score(y_test, NP_preds)\n",
    "NP_f1 = f1_score(y_test, NP_preds)\n",
    "\n",
    "# Print metrics\n",
    "print(f\"Newton Raphson Accuracy: {NP_accuracy:.2f}\")\n",
    "print(f\"Newton Raphson Precision: {NP_precision:.2f}\")\n",
    "print(f\"Newton Raphson Recall: {NP_recall:.2f}\")\n",
    "print(f\"Newton Raphson F1 Score: {NP_f1:.2f}\")\n",
    "\n"
   ]
  },
  {
   "cell_type": "code",
   "execution_count": null,
   "metadata": {},
   "outputs": [
    {
     "name": "stdout",
     "output_type": "stream",
     "text": [
      "Scikit Learn Accuracy: 0.69\n",
      "Scikit Learn Precision: 0.73\n",
      "Scikit Learn Recall: 0.91\n",
      "Scikit Learn F1 Score: 0.81\n"
     ]
    }
   ],
   "source": [
    "# Train logistic regression model using sklearn\n",
    "logreg = LogisticRegression(fit_intercept=True, solver=\"lbfgs\")\n",
    "logreg.fit(X_train, y_train)\n",
    "\n",
    "# Predictions and evaluation metrics for Scikit Learn\n",
    "SC_preds = logreg.predict(X_test)\n",
    "SC_accuracy = accuracy_score(y_test, SC_preds)\n",
    "SC_precision = precision_score(y_test, SC_preds)\n",
    "SC_recall = recall_score(y_test, SC_preds)\n",
    "SC_f1 = f1_score(y_test, SC_preds)\n",
    "# Print metrics\n",
    "print(f\"Scikit Learn Accuracy: {SC_accuracy:.2f}\")\n",
    "print(f\"Scikit Learn Precision: {SC_precision:.2f}\")\n",
    "print(f\"Scikit Learn Recall: {SC_recall:.2f}\")\n",
    "print(f\"Scikit Learn F1 Score: {SC_f1:.2f}\")"
   ]
  },
  {
   "cell_type": "code",
   "execution_count": null,
   "metadata": {},
   "outputs": [
    {
     "data": {
      "image/png": "[encoded data removed]",
      "text/plain": [
       "<Figure size 640x480 with 1 Axes>"
      ]
     },
     "metadata": {},
     "output_type": "display_data"
    }
   ],
   "source": [
    "# Plot ROC curve\n",
    "fpr, tpr, _ = roc_curve(y_test, NP_preds)\n",
    "fpr2, tpr2, _ = roc_curve(y_test, SC_preds)\n",
    "roc_auc = auc(fpr, tpr)\n",
    "roc_auc2 = auc(fpr2, tpr2)\n",
    "plt.plot(fpr, tpr, label=f\"Newton Raphson ROC curve (AUC = {roc_auc:.2f})\")\n",
    "plt.plot(fpr2, tpr2, label=f\"Scikit Learn ROC curve (AUC = {roc_auc2:.2f})\")\n",
    "plt.xlabel(\"False Positive Rate\")\n",
    "plt.ylabel(\"True Positive Rate\")\n",
    "plt.title(\"ROC Curve\")\n",
    "plt.legend()\n",
    "plt.show()"
   ]
  },
  {
   "cell_type": "code",
   "execution_count": null,
   "metadata": {},
   "outputs": [],
   "source": [
    "# Gradient of the negative log-posterior\n",
    "def grad_neg_log_posterior(beta, X, y):\n",
    "    grad = gradientf(beta, X, y) + beta  # Add prior gradient\n",
    "    return grad     #TODO: Implement the gradient of Negative log-posterior\n",
    "\n",
    "\n",
    "# Hessian of the negative log-posterior\n",
    "def hessian_neg_log_posterior(beta, X):\n",
    "    hessian = hessianf(beta, X) + np.eye(X.shape[1])  # Add prior Hessian\n",
    "    return hessian       # TODO: Implement the hessian of Negative log-posterior"
   ]
  },
  {
   "cell_type": "code",
   "execution_count": null,
   "metadata": {},
   "outputs": [
    {
     "name": "stdout",
     "output_type": "stream",
     "text": [
      "Laplace approximation Accuracy: 0.66\n",
      "Laplace approximation Precision: 0.76\n",
      "Laplace approximation Recall: 0.77\n",
      "Laplace approximation F1 Score: 0.76\n"
     ]
    }
   ],
   "source": [
    "hessian = hessian_neg_log_posterior\n",
    "gradient = grad_neg_log_posterior\n",
    "\n",
    "# Train logistic regression model for Laplace approximation\n",
    "LA_beta = newton_raphson(X_train, y_train)\n",
    "\n",
    "# Predictions and evaluation metrics for Newton Raphson\n",
    "LA_preds = predict(X_test, LA_beta)\n",
    "LA_accuracy = accuracy_score(y_test, LA_preds)\n",
    "LA_precision = precision_score(y_test, LA_preds)\n",
    "LA_recall = recall_score(y_test, LA_preds)\n",
    "LA_f1 = f1_score(y_test, LA_preds)\n",
    "\n",
    "# Print metrics\n",
    "print(f\"Laplace approximation Accuracy: {LA_accuracy:.2f}\")\n",
    "print(f\"Laplace approximation Precision: {LA_precision:.2f}\")\n",
    "print(f\"Laplace approximation Recall: {LA_recall:.2f}\")\n",
    "print(f\"Laplace approximation F1 Score: {LA_f1:.2f}\")"
   ]
  }
 ],
 "metadata": {
  "kernelspec": {
   "display_name": "Python 3",
   "language": "python",
   "name": "python3"
  },
  "language_info": {
   "codemirror_mode": {
    "name": "ipython",
    "version": 3
   },
   "file_extension": ".py",
   "mimetype": "text/x-python",
   "name": "python",
   "nbconvert_exporter": "python",
   "pygments_lexer": "ipython3",
   "version": "3.12.2"
  }
 },
 "nbformat": 4,
 "nbformat_minor": 2
}

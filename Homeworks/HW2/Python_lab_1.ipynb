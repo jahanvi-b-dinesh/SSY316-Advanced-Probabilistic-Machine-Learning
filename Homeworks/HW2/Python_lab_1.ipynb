{
 "cells": [
  {
   "cell_type": "code",
   "execution_count": 1,
   "metadata": {},
   "outputs": [
    {
     "name": "stdout",
     "output_type": "stream",
     "text": [
      "Collecting seaborn\n",
      "  Downloading seaborn-0.13.2-py3-none-any.whl.metadata (5.4 kB)\n",
      "Requirement already satisfied: numpy!=1.24.0,>=1.20 in c:\\users\\jahanvi b dinesh\\appdata\\local\\programs\\python\\python312\\lib\\site-packages (from seaborn) (1.26.4)\n",
      "Requirement already satisfied: pandas>=1.2 in c:\\users\\jahanvi b dinesh\\appdata\\local\\programs\\python\\python312\\lib\\site-packages (from seaborn) (2.2.0)\n",
      "Requirement already satisfied: matplotlib!=3.6.1,>=3.4 in c:\\users\\jahanvi b dinesh\\appdata\\local\\programs\\python\\python312\\lib\\site-packages (from seaborn) (3.8.2)\n",
      "Requirement already satisfied: contourpy>=1.0.1 in c:\\users\\jahanvi b dinesh\\appdata\\local\\programs\\python\\python312\\lib\\site-packages (from matplotlib!=3.6.1,>=3.4->seaborn) (1.2.0)\n",
      "Requirement already satisfied: cycler>=0.10 in c:\\users\\jahanvi b dinesh\\appdata\\local\\programs\\python\\python312\\lib\\site-packages (from matplotlib!=3.6.1,>=3.4->seaborn) (0.12.1)\n",
      "Requirement already satisfied: fonttools>=4.22.0 in c:\\users\\jahanvi b dinesh\\appdata\\local\\programs\\python\\python312\\lib\\site-packages (from matplotlib!=3.6.1,>=3.4->seaborn) (4.48.1)\n",
      "Requirement already satisfied: kiwisolver>=1.3.1 in c:\\users\\jahanvi b dinesh\\appdata\\local\\programs\\python\\python312\\lib\\site-packages (from matplotlib!=3.6.1,>=3.4->seaborn) (1.4.5)\n",
      "Requirement already satisfied: packaging>=20.0 in c:\\users\\jahanvi b dinesh\\appdata\\local\\programs\\python\\python312\\lib\\site-packages (from matplotlib!=3.6.1,>=3.4->seaborn) (23.2)\n",
      "Requirement already satisfied: pillow>=8 in c:\\users\\jahanvi b dinesh\\appdata\\local\\programs\\python\\python312\\lib\\site-packages (from matplotlib!=3.6.1,>=3.4->seaborn) (10.2.0)\n",
      "Requirement already satisfied: pyparsing>=2.3.1 in c:\\users\\jahanvi b dinesh\\appdata\\local\\programs\\python\\python312\\lib\\site-packages (from matplotlib!=3.6.1,>=3.4->seaborn) (3.1.1)\n",
      "Requirement already satisfied: python-dateutil>=2.7 in c:\\users\\jahanvi b dinesh\\appdata\\local\\programs\\python\\python312\\lib\\site-packages (from matplotlib!=3.6.1,>=3.4->seaborn) (2.8.2)\n",
      "Requirement already satisfied: pytz>=2020.1 in c:\\users\\jahanvi b dinesh\\appdata\\local\\programs\\python\\python312\\lib\\site-packages (from pandas>=1.2->seaborn) (2024.1)\n",
      "Requirement already satisfied: tzdata>=2022.7 in c:\\users\\jahanvi b dinesh\\appdata\\local\\programs\\python\\python312\\lib\\site-packages (from pandas>=1.2->seaborn) (2024.1)\n",
      "Requirement already satisfied: six>=1.5 in c:\\users\\jahanvi b dinesh\\appdata\\local\\programs\\python\\python312\\lib\\site-packages (from python-dateutil>=2.7->matplotlib!=3.6.1,>=3.4->seaborn) (1.16.0)\n",
      "Downloading seaborn-0.13.2-py3-none-any.whl (294 kB)\n",
      "   ---------------------------------------- 0.0/294.9 kB ? eta -:--:--\n",
      "   - -------------------------------------- 10.2/294.9 kB ? eta -:--:--\n",
      "   ------------------- -------------------- 143.4/294.9 kB 2.1 MB/s eta 0:00:01\n",
      "   ---------------------------------------- 294.9/294.9 kB 3.1 MB/s eta 0:00:00\n",
      "Installing collected packages: seaborn\n",
      "Successfully installed seaborn-0.13.2\n",
      "Note: you may need to restart the kernel to use updated packages.\n"
     ]
    },
    {
     "name": "stderr",
     "output_type": "stream",
     "text": [
      "\n",
      "[notice] A new release of pip is available: 24.0 -> 24.3.1\n",
      "[notice] To update, run: python.exe -m pip install --upgrade pip\n"
     ]
    }
   ],
   "source": [
    "pip install seaborn"
   ]
  },
  {
   "cell_type": "code",
   "execution_count": 9,
   "metadata": {},
   "outputs": [
    {
     "name": "stdout",
     "output_type": "stream",
     "text": [
      "Requirement already satisfied: statsmodels in c:\\users\\jahanvi b dinesh\\appdata\\local\\programs\\python\\python312\\lib\\site-packages (0.14.4)\n",
      "Requirement already satisfied: numpy<3,>=1.22.3 in c:\\users\\jahanvi b dinesh\\appdata\\local\\programs\\python\\python312\\lib\\site-packages (from statsmodels) (1.26.4)\n",
      "Requirement already satisfied: scipy!=1.9.2,>=1.8 in c:\\users\\jahanvi b dinesh\\appdata\\local\\programs\\python\\python312\\lib\\site-packages (from statsmodels) (1.12.0)\n",
      "Requirement already satisfied: pandas!=2.1.0,>=1.4 in c:\\users\\jahanvi b dinesh\\appdata\\local\\programs\\python\\python312\\lib\\site-packages (from statsmodels) (2.2.0)\n",
      "Requirement already satisfied: patsy>=0.5.6 in c:\\users\\jahanvi b dinesh\\appdata\\local\\programs\\python\\python312\\lib\\site-packages (from statsmodels) (1.0.1)\n",
      "Requirement already satisfied: packaging>=21.3 in c:\\users\\jahanvi b dinesh\\appdata\\local\\programs\\python\\python312\\lib\\site-packages (from statsmodels) (23.2)\n",
      "Requirement already satisfied: python-dateutil>=2.8.2 in c:\\users\\jahanvi b dinesh\\appdata\\local\\programs\\python\\python312\\lib\\site-packages (from pandas!=2.1.0,>=1.4->statsmodels) (2.8.2)\n",
      "Requirement already satisfied: pytz>=2020.1 in c:\\users\\jahanvi b dinesh\\appdata\\local\\programs\\python\\python312\\lib\\site-packages (from pandas!=2.1.0,>=1.4->statsmodels) (2024.1)\n",
      "Requirement already satisfied: tzdata>=2022.7 in c:\\users\\jahanvi b dinesh\\appdata\\local\\programs\\python\\python312\\lib\\site-packages (from pandas!=2.1.0,>=1.4->statsmodels) (2024.1)\n",
      "Requirement already satisfied: six>=1.5 in c:\\users\\jahanvi b dinesh\\appdata\\local\\programs\\python\\python312\\lib\\site-packages (from python-dateutil>=2.8.2->pandas!=2.1.0,>=1.4->statsmodels) (1.16.0)\n",
      "Note: you may need to restart the kernel to use updated packages.\n"
     ]
    },
    {
     "name": "stderr",
     "output_type": "stream",
     "text": [
      "\n",
      "[notice] A new release of pip is available: 24.0 -> 24.3.1\n",
      "[notice] To update, run: python.exe -m pip install --upgrade pip\n"
     ]
    }
   ],
   "source": [
    "pip install statsmodels\n"
   ]
  },
  {
   "cell_type": "code",
   "execution_count": 10,
   "metadata": {},
   "outputs": [
    {
     "name": "stdout",
     "output_type": "stream",
     "text": [
      "Collecting scikit-learnNote: you may need to restart the kernel to use updated packages.\n",
      "\n",
      "  Downloading scikit_learn-1.5.2-cp312-cp312-win_amd64.whl.metadata (13 kB)\n",
      "Requirement already satisfied: numpy>=1.19.5 in c:\\users\\jahanvi b dinesh\\appdata\\local\\programs\\python\\python312\\lib\\site-packages (from scikit-learn) (1.26.4)\n",
      "Requirement already satisfied: scipy>=1.6.0 in c:\\users\\jahanvi b dinesh\\appdata\\local\\programs\\python\\python312\\lib\\site-packages (from scikit-learn) (1.12.0)\n",
      "Collecting joblib>=1.2.0 (from scikit-learn)\n",
      "  Downloading joblib-1.4.2-py3-none-any.whl.metadata (5.4 kB)\n",
      "Collecting threadpoolctl>=3.1.0 (from scikit-learn)\n",
      "  Downloading threadpoolctl-3.5.0-py3-none-any.whl.metadata (13 kB)\n",
      "Downloading scikit_learn-1.5.2-cp312-cp312-win_amd64.whl (11.0 MB)\n",
      "   ---------------------------------------- 0.0/11.0 MB ? eta -:--:--\n",
      "   ---------------------------------------- 0.1/11.0 MB 2.6 MB/s eta 0:00:05\n",
      "   - -------------------------------------- 0.5/11.0 MB 5.2 MB/s eta 0:00:03\n",
      "   --- ------------------------------------ 1.1/11.0 MB 8.7 MB/s eta 0:00:02\n",
      "   ------- -------------------------------- 2.1/11.0 MB 12.0 MB/s eta 0:00:01\n",
      "   ------------ --------------------------- 3.3/11.0 MB 15.3 MB/s eta 0:00:01\n",
      "   ---------------- ----------------------- 4.4/11.0 MB 16.6 MB/s eta 0:00:01\n",
      "   -------------------- ------------------- 5.5/11.0 MB 17.7 MB/s eta 0:00:01\n",
      "   ----------------------- ---------------- 6.5/11.0 MB 18.1 MB/s eta 0:00:01\n",
      "   -------------------------- ------------- 7.4/11.0 MB 18.2 MB/s eta 0:00:01\n",
      "   ----------------------------- ---------- 8.2/11.0 MB 18.7 MB/s eta 0:00:01\n",
      "   --------------------------------- ------ 9.1/11.0 MB 18.7 MB/s eta 0:00:01\n",
      "   ------------------------------------- -- 10.2/11.0 MB 19.1 MB/s eta 0:00:01\n",
      "   ---------------------------------------  10.8/11.0 MB 21.1 MB/s eta 0:00:01\n",
      "   ---------------------------------------- 11.0/11.0 MB 19.2 MB/s eta 0:00:00\n",
      "Downloading joblib-1.4.2-py3-none-any.whl (301 kB)\n",
      "   ---------------------------------------- 0.0/301.8 kB ? eta -:--:--\n",
      "   ---------------------------------------  297.0/301.8 kB 6.1 MB/s eta 0:00:01\n",
      "   ---------------------------------------- 301.8/301.8 kB 4.6 MB/s eta 0:00:00\n",
      "Downloading threadpoolctl-3.5.0-py3-none-any.whl (18 kB)\n",
      "Installing collected packages: threadpoolctl, joblib, scikit-learn\n",
      "Successfully installed joblib-1.4.2 scikit-learn-1.5.2 threadpoolctl-3.5.0\n"
     ]
    },
    {
     "name": "stderr",
     "output_type": "stream",
     "text": [
      "\n",
      "[notice] A new release of pip is available: 24.0 -> 24.3.1\n",
      "[notice] To update, run: python.exe -m pip install --upgrade pip\n"
     ]
    }
   ],
   "source": [
    "pip install scikit-learn"
   ]
  },
  {
   "cell_type": "code",
   "execution_count": 11,
   "metadata": {
    "id": "hv7r-z9dVzOe"
   },
   "outputs": [],
   "source": [
    "import numpy as np\n",
    "import pandas as pd  #Python Data Analysis Library handle data in a user friendly way\n",
    "import scipy as sc\n",
    "import matplotlib.pyplot as plt #for plots\n",
    "import seaborn as sns # for better plots\n",
    "#%matplotlib inline\n",
    "from sklearn import linear_model # A very popular Python library for Machine Learning\n",
    "from sklearn.linear_model import LinearRegression\n",
    "from sklearn.model_selection import train_test_split #needed to for assessing prediction\n",
    "from sklearn import datasets ## imports datasets from scikit-learn\n",
    "import statsmodels.api as sm"
   ]
  },
  {
   "cell_type": "markdown",
   "metadata": {
    "id": "1snXK8QeVzOf"
   },
   "source": [
    "We will begin with generating data."
   ]
  },
  {
   "cell_type": "code",
   "execution_count": 12,
   "metadata": {
    "colab": {
     "base_uri": "https://localhost:8080/",
     "height": 447
    },
    "id": "ssM9zBYOVzOg",
    "outputId": "69bed2c5-c0f1-42a5-cd1b-4947babd76f9"
   },
   "outputs": [
    {
     "data": {
      "text/plain": [
       "<matplotlib.legend.Legend at 0x2033f862720>"
      ]
     },
     "execution_count": 12,
     "metadata": {},
     "output_type": "execute_result"
    },
    {
     "data": {
      "image/png": "[encoded data removed]",
      "text/plain": [
       "<Figure size 640x480 with 1 Axes>"
      ]
     },
     "metadata": {},
     "output_type": "display_data"
    }
   ],
   "source": [
    "#Polynomial fitting exercises\n",
    "np.random.seed(1)\n",
    "n = 20 #number of points\n",
    "x = np.linspace(0, 1, n)\n",
    "f = np.sin(2*np.pi*x)\n",
    "y = f+0.3*np.random.randn(n)\n",
    "#plt.plot(xg,f,label='true process')\n",
    "plt.plot(x,y,'o',label='data')\n",
    "plt.plot(x,f,label='true process')\n",
    "plt.legend()"
   ]
  },
  {
   "cell_type": "markdown",
   "metadata": {
    "id": "bJIfOZ5DVzOg"
   },
   "source": [
    "We put x,y into the pandas dataframe called data. Also put a vector of ones as x0."
   ]
  },
  {
   "cell_type": "code",
   "execution_count": 13,
   "metadata": {
    "colab": {
     "base_uri": "https://localhost:8080/",
     "height": 206
    },
    "id": "pEIARmOgVzOg",
    "outputId": "e25d7c32-ad53-4632-880b-6d4069889b4b"
   },
   "outputs": [
    {
     "data": {
      "text/html": [
       "<div>\n",
       "<style scoped>\n",
       "    .dataframe tbody tr th:only-of-type {\n",
       "        vertical-align: middle;\n",
       "    }\n",
       "\n",
       "    .dataframe tbody tr th {\n",
       "        vertical-align: top;\n",
       "    }\n",
       "\n",
       "    .dataframe thead th {\n",
       "        text-align: right;\n",
       "    }\n",
       "</style>\n",
       "<table border=\"1\" class=\"dataframe\">\n",
       "  <thead>\n",
       "    <tr style=\"text-align: right;\">\n",
       "      <th></th>\n",
       "      <th>y</th>\n",
       "      <th>x0</th>\n",
       "      <th>x</th>\n",
       "      <th>x2</th>\n",
       "      <th>x3</th>\n",
       "      <th>x4</th>\n",
       "      <th>x5</th>\n",
       "      <th>x6</th>\n",
       "      <th>x7</th>\n",
       "      <th>x8</th>\n",
       "      <th>x9</th>\n",
       "      <th>x10</th>\n",
       "    </tr>\n",
       "  </thead>\n",
       "  <tbody>\n",
       "    <tr>\n",
       "      <th>0</th>\n",
       "      <td>0.487304</td>\n",
       "      <td>1.0</td>\n",
       "      <td>0.000000</td>\n",
       "      <td>0.000000</td>\n",
       "      <td>0.000000</td>\n",
       "      <td>0.000000</td>\n",
       "      <td>0.000000e+00</td>\n",
       "      <td>0.000000e+00</td>\n",
       "      <td>0.000000e+00</td>\n",
       "      <td>0.000000e+00</td>\n",
       "      <td>0.000000e+00</td>\n",
       "      <td>0.000000e+00</td>\n",
       "    </tr>\n",
       "    <tr>\n",
       "      <th>1</th>\n",
       "      <td>0.141173</td>\n",
       "      <td>1.0</td>\n",
       "      <td>0.052632</td>\n",
       "      <td>0.002770</td>\n",
       "      <td>0.000146</td>\n",
       "      <td>0.000008</td>\n",
       "      <td>4.038611e-07</td>\n",
       "      <td>2.125585e-08</td>\n",
       "      <td>1.118729e-09</td>\n",
       "      <td>5.888046e-11</td>\n",
       "      <td>3.098972e-12</td>\n",
       "      <td>1.631038e-13</td>\n",
       "    </tr>\n",
       "    <tr>\n",
       "      <th>2</th>\n",
       "      <td>0.455761</td>\n",
       "      <td>1.0</td>\n",
       "      <td>0.105263</td>\n",
       "      <td>0.011080</td>\n",
       "      <td>0.001166</td>\n",
       "      <td>0.000123</td>\n",
       "      <td>1.292355e-05</td>\n",
       "      <td>1.360374e-06</td>\n",
       "      <td>1.431973e-07</td>\n",
       "      <td>1.507340e-08</td>\n",
       "      <td>1.586673e-09</td>\n",
       "      <td>1.670183e-10</td>\n",
       "    </tr>\n",
       "    <tr>\n",
       "      <th>3</th>\n",
       "      <td>0.515276</td>\n",
       "      <td>1.0</td>\n",
       "      <td>0.157895</td>\n",
       "      <td>0.024931</td>\n",
       "      <td>0.003936</td>\n",
       "      <td>0.000622</td>\n",
       "      <td>9.813824e-05</td>\n",
       "      <td>1.549551e-05</td>\n",
       "      <td>2.446660e-06</td>\n",
       "      <td>3.863147e-07</td>\n",
       "      <td>6.099706e-08</td>\n",
       "      <td>9.631114e-09</td>\n",
       "    </tr>\n",
       "    <tr>\n",
       "      <th>4</th>\n",
       "      <td>1.229023</td>\n",
       "      <td>1.0</td>\n",
       "      <td>0.210526</td>\n",
       "      <td>0.044321</td>\n",
       "      <td>0.009331</td>\n",
       "      <td>0.001964</td>\n",
       "      <td>4.135537e-04</td>\n",
       "      <td>8.706395e-05</td>\n",
       "      <td>1.832925e-05</td>\n",
       "      <td>3.858790e-06</td>\n",
       "      <td>8.123768e-07</td>\n",
       "      <td>1.710267e-07</td>\n",
       "    </tr>\n",
       "  </tbody>\n",
       "</table>\n",
       "</div>"
      ],
      "text/plain": [
       "          y   x0         x        x2        x3        x4            x5  \\\n",
       "0  0.487304  1.0  0.000000  0.000000  0.000000  0.000000  0.000000e+00   \n",
       "1  0.141173  1.0  0.052632  0.002770  0.000146  0.000008  4.038611e-07   \n",
       "2  0.455761  1.0  0.105263  0.011080  0.001166  0.000123  1.292355e-05   \n",
       "3  0.515276  1.0  0.157895  0.024931  0.003936  0.000622  9.813824e-05   \n",
       "4  1.229023  1.0  0.210526  0.044321  0.009331  0.001964  4.135537e-04   \n",
       "\n",
       "             x6            x7            x8            x9           x10  \n",
       "0  0.000000e+00  0.000000e+00  0.000000e+00  0.000000e+00  0.000000e+00  \n",
       "1  2.125585e-08  1.118729e-09  5.888046e-11  3.098972e-12  1.631038e-13  \n",
       "2  1.360374e-06  1.431973e-07  1.507340e-08  1.586673e-09  1.670183e-10  \n",
       "3  1.549551e-05  2.446660e-06  3.863147e-07  6.099706e-08  9.631114e-09  \n",
       "4  8.706395e-05  1.832925e-05  3.858790e-06  8.123768e-07  1.710267e-07  "
      ]
     },
     "execution_count": 13,
     "metadata": {},
     "output_type": "execute_result"
    }
   ],
   "source": [
    "x0 = np.ones(n)\n",
    "data = pd.DataFrame(np.column_stack([y,x0,x]),columns=['y','x0','x'])\n",
    "#Expand the data including powers of x up to 10\n",
    "for i in range(2,11):  #executes the following indented commands for i varying from 3 to 9\n",
    "    colname = 'x%d'%i # the %d %i puts a different number in the name of each variable\n",
    "    data[colname] = data['x']**i #raise to the power of i\n",
    "    # the for loop continues until the first time a command is not indented.\n",
    "data.head()"
   ]
  },
  {
   "cell_type": "code",
   "execution_count": 14,
   "metadata": {
    "colab": {
     "base_uri": "https://localhost:8080/",
     "height": 469
    },
    "id": "w4kb5ywoVzOh",
    "outputId": "334772cc-a344-45c1-bdb1-fb8b4e8fc3a3"
   },
   "outputs": [
    {
     "data": {
      "text/plain": [
       "<matplotlib.legend.Legend at 0x2033fa16960>"
      ]
     },
     "execution_count": 14,
     "metadata": {},
     "output_type": "execute_result"
    },
    {
     "data": {
      "image/png": "[encoded data removed]",
      "text/plain": [
       "<Figure size 640x480 with 1 Axes>"
      ]
     },
     "metadata": {},
     "output_type": "display_data"
    }
   ],
   "source": [
    "npower = 2\n",
    "predictors = ['x']\n",
    "predictors.extend(['x%d'%i for i in range(2,npower+1)])\n",
    "linreg = LinearRegression(fit_intercept=True)\n",
    "linreg.fit(data[predictors],data['y'])\n",
    "y_pred = linreg.predict(data[predictors])\n",
    "plt.plot(data['x'],y_pred, label='LS fit')\n",
    "plt.plot(data['x'],data['y'],'o',label='data')\n",
    "plt.plot(x,f,label='true process')\n",
    "plt.title('Plot for power: %d'%npower)\n",
    "plt.legend()"
   ]
  },
  {
   "cell_type": "markdown",
   "metadata": {
    "id": "j9RLFErqVzOh"
   },
   "source": [
    "### Matrix operations\n",
    "\n",
    "Below we find the MLE without the scikit linear regression function. For that we\n",
    "\n",
    "1. Form the design matrix $X$ and the response vector y\n",
    "2. Calculate the MLE as $$\\hat{\\beta} = (X^T X)^{-1}X^T y$$\n",
    "\n",
    "The code below does that and also prints $X^T X$ and $(X^T X)^{-1}$ for checking.### Matrix operations\n",
    "\n",
    "Below we find the MLE without the scikit linear regression function. For that we\n",
    "\n",
    "1. Form the design matrix $X$ and the response vector y\n",
    "2. Calculate the MLE as $$\\hat{\\beta} = (X^T X)^{-1}X^T y$$\n",
    "\n",
    "The code below does that and also prints $X^T X$ and $(X^T X)^{-1}$ for checking."
   ]
  },
  {
   "cell_type": "code",
   "execution_count": 15,
   "metadata": {
    "colab": {
     "base_uri": "https://localhost:8080/"
    },
    "id": "GV67wm1oVzOh",
    "outputId": "08ea5f6f-3ad8-4c9c-d53f-199b61765326"
   },
   "outputs": [
    {
     "data": {
      "text/plain": [
       "(           x0          x        x2\n",
       " x0  20.000000  10.000000  6.842105\n",
       " x   10.000000   6.842105  5.263158\n",
       " x2   6.842105   5.263158  4.317539,\n",
       " array([[ 0.37077922, -1.44350649,  1.17207792],\n",
       "        [-1.44350649,  7.96601732, -7.42316017],\n",
       "        [ 1.17207792, -7.42316017,  7.42316017]]),\n",
       " array([ 0.88516511, -2.23262046,  0.55870444]))"
      ]
     },
     "execution_count": 15,
     "metadata": {},
     "output_type": "execute_result"
    }
   ],
   "source": [
    "npower = 2\n",
    "predictors = ['x0','x']\n",
    "predictors.extend(['x%d'%i for i in range(2,npower+1)])\n",
    "X = data[predictors]\n",
    "y = data['y']\n",
    "XtX = X.T.dot(X) #X.T give X transpose X.dot(b) does matrix multiplication X*b\n",
    "XtX_inv = sc.linalg.inv(XtX) #sc.linalg.inv(A) provide the inverse of A\n",
    "beta = XtX_inv.dot(X.T.dot(y))\n",
    "XtX, XtX_inv, beta"
   ]
  },
  {
   "cell_type": "markdown",
   "metadata": {
    "id": "i5l-NxxWVzOh"
   },
   "source": [
    "Check the $\\beta$ you found with the scikit function:"
   ]
  },
  {
   "cell_type": "code",
   "execution_count": 16,
   "metadata": {
    "colab": {
     "base_uri": "https://localhost:8080/"
    },
    "id": "fy2Bt3zfVzOh",
    "outputId": "2a949f6b-a04b-4032-a880-6f750481d1a0"
   },
   "outputs": [
    {
     "name": "stdout",
     "output_type": "stream",
     "text": [
      "Beta coefficients from manual calculation: [ 0.88516511 -2.23262046  0.55870444]\n",
      "Beta coefficients from scikit-learn: [ 0.88516511 -2.23262046  0.55870444]\n",
      "The coefficients match within the tolerance level.\n"
     ]
    }
   ],
   "source": [
    "from sklearn.linear_model import LinearRegression\n",
    "\n",
    "# Initialize the LinearRegression model\n",
    "model = LinearRegression(fit_intercept=False)  # We already have an intercept column 'x0' in the predictors\n",
    "\n",
    "# Fit the model to the data\n",
    "model.fit(X, y)\n",
    "\n",
    "# Extract the coefficients\n",
    "beta_sklearn = model.coef_\n",
    "\n",
    "# Compare the coefficients\n",
    "print(\"Beta coefficients from manual calculation:\", beta)\n",
    "print(\"Beta coefficients from scikit-learn:\", beta_sklearn)\n",
    "\n",
    "# Check if the values are approximately equal\n",
    "if np.allclose(beta, beta_sklearn, atol=1e-6):\n",
    "    print(\"The coefficients match within the tolerance level.\")\n",
    "else:\n",
    "    print(\"The coefficients do not match.\")\n"
   ]
  },
  {
   "cell_type": "markdown",
   "metadata": {
    "id": "wwUICiy6VzOh"
   },
   "source": [
    "We can go beyond the point estimate and calculate the variance of $\\hat{\\beta}$.\n",
    "\n",
    "The code below provides $\\hat{\\sigma}^2$, the covariance matrix $$\\mbox{var}[\\hat{\\beta}] = \\hat{\\sigma}^2 (X^T X)^{-1}, $$\n",
    "and its diagonal."
   ]
  },
  {
   "cell_type": "code",
   "execution_count": 17,
   "metadata": {
    "colab": {
     "base_uri": "https://localhost:8080/"
    },
    "id": "QCM0gnVFVzOh",
    "outputId": "0e5182eb-3203-42c2-8c09-df680a232396"
   },
   "outputs": [
    {
     "data": {
      "text/plain": [
       "(0.38812469825123386,\n",
       " array([[ 0.14390857, -0.56026052,  0.45491239],\n",
       "        [-0.56026052,  3.09180807, -2.8811118 ],\n",
       "        [ 0.45491239, -2.8811118 ,  2.8811118 ]]),\n",
       " array([0.14390857, 3.09180807, 2.8811118 ]))"
      ]
     },
     "execution_count": 17,
     "metadata": {},
     "output_type": "execute_result"
    }
   ],
   "source": [
    "n,p = X.shape\n",
    "e = y - X.dot(beta)# beta is your derived MLE coefficents in the previous cells\n",
    "sigma2_hat = e.T.dot(e)/(n-p)\n",
    "var_beta = sigma2_hat*(sc.linalg.inv(X.T.dot(X)))\n",
    "sigma2_hat, var_beta, np.diag(var_beta)"
   ]
  },
  {
   "cell_type": "markdown",
   "metadata": {
    "id": "0GVMaqraVzOh"
   },
   "source": [
    "With the above quantities we can calculate confidence intervals for MLE's. For those we will need the 97.5\\% point of the $t_{n-p}$ distribution.\n",
    "\n",
    "The following code does that and also puts the results in pandas dataframe."
   ]
  },
  {
   "cell_type": "code",
   "execution_count": 18,
   "metadata": {
    "colab": {
     "base_uri": "https://localhost:8080/",
     "height": 143
    },
    "id": "lK1xAu9dVzOh",
    "outputId": "d9aef262-3653-4a3a-b2c5-4d234f55e1bb"
   },
   "outputs": [
    {
     "data": {
      "text/html": [
       "<div>\n",
       "<style scoped>\n",
       "    .dataframe tbody tr th:only-of-type {\n",
       "        vertical-align: middle;\n",
       "    }\n",
       "\n",
       "    .dataframe tbody tr th {\n",
       "        vertical-align: top;\n",
       "    }\n",
       "\n",
       "    .dataframe thead th {\n",
       "        text-align: right;\n",
       "    }\n",
       "</style>\n",
       "<table border=\"1\" class=\"dataframe\">\n",
       "  <thead>\n",
       "    <tr style=\"text-align: right;\">\n",
       "      <th></th>\n",
       "      <th>coefficient</th>\n",
       "      <th>se</th>\n",
       "      <th>lower 95% bound</th>\n",
       "      <th>upper 95% bound</th>\n",
       "    </tr>\n",
       "  </thead>\n",
       "  <tbody>\n",
       "    <tr>\n",
       "      <th>intercept</th>\n",
       "      <td>0.885165</td>\n",
       "      <td>0.379353</td>\n",
       "      <td>0.084801</td>\n",
       "      <td>1.685530</td>\n",
       "    </tr>\n",
       "    <tr>\n",
       "      <th>x</th>\n",
       "      <td>-2.232620</td>\n",
       "      <td>1.758354</td>\n",
       "      <td>-5.942423</td>\n",
       "      <td>1.477182</td>\n",
       "    </tr>\n",
       "    <tr>\n",
       "      <th>x2</th>\n",
       "      <td>0.558704</td>\n",
       "      <td>1.697384</td>\n",
       "      <td>-3.022462</td>\n",
       "      <td>4.139871</td>\n",
       "    </tr>\n",
       "  </tbody>\n",
       "</table>\n",
       "</div>"
      ],
      "text/plain": [
       "           coefficient        se  lower 95% bound  upper 95% bound\n",
       "intercept     0.885165  0.379353         0.084801         1.685530\n",
       "x            -2.232620  1.758354        -5.942423         1.477182\n",
       "x2            0.558704  1.697384        -3.022462         4.139871"
      ]
     },
     "execution_count": 18,
     "metadata": {},
     "output_type": "execute_result"
    }
   ],
   "source": [
    "#calculate 97.5% CI for beta and present output via a pandas data frame\n",
    "tval = sc.stats.t.ppf(0.975,n-p)\n",
    "std_beta = np.sqrt(np.diag(var_beta))\n",
    "lower95 = beta - tval*std_beta\n",
    "upper95 = beta + tval*std_beta\n",
    "results = np.column_stack([beta,std_beta,lower95,upper95])\n",
    "col = ['coefficient','se','lower 95% bound','upper 95% bound']\n",
    "ind = ['intercept','x','x2']\n",
    "results = pd.DataFrame(results,columns = col,index=ind)\n",
    "results"
   ]
  },
  {
   "cell_type": "markdown",
   "metadata": {
    "id": "YWpTD7GrVzOi"
   },
   "source": [
    "To check our answers we also use the relevant function (.OLS) of the library **statsmodels**  "
   ]
  },
  {
   "cell_type": "code",
   "execution_count": 19,
   "metadata": {
    "colab": {
     "base_uri": "https://localhost:8080/",
     "height": 465
    },
    "id": "VDe9k3e8VzOi",
    "outputId": "b2f93088-843f-41bf-8968-6fc6ae170fde"
   },
   "outputs": [
    {
     "data": {
      "text/html": [
       "<table class=\"simpletable\">\n",
       "<caption>OLS Regression Results</caption>\n",
       "<tr>\n",
       "  <th>Dep. Variable:</th>            <td>y</td>        <th>  R-squared:         </th> <td>   0.441</td>\n",
       "</tr>\n",
       "<tr>\n",
       "  <th>Model:</th>                   <td>OLS</td>       <th>  Adj. R-squared:    </th> <td>   0.375</td>\n",
       "</tr>\n",
       "<tr>\n",
       "  <th>Method:</th>             <td>Least Squares</td>  <th>  F-statistic:       </th> <td>   6.704</td>\n",
       "</tr>\n",
       "<tr>\n",
       "  <th>Date:</th>             <td>Thu, 21 Nov 2024</td> <th>  Prob (F-statistic):</th>  <td>0.00714</td>\n",
       "</tr>\n",
       "<tr>\n",
       "  <th>Time:</th>                 <td>12:27:25</td>     <th>  Log-Likelihood:    </th> <td> -17.289</td>\n",
       "</tr>\n",
       "<tr>\n",
       "  <th>No. Observations:</th>      <td>    20</td>      <th>  AIC:               </th> <td>   40.58</td>\n",
       "</tr>\n",
       "<tr>\n",
       "  <th>Df Residuals:</th>          <td>    17</td>      <th>  BIC:               </th> <td>   43.57</td>\n",
       "</tr>\n",
       "<tr>\n",
       "  <th>Df Model:</th>              <td>     2</td>      <th>                     </th>     <td> </td>   \n",
       "</tr>\n",
       "<tr>\n",
       "  <th>Covariance Type:</th>      <td>nonrobust</td>    <th>                     </th>     <td> </td>   \n",
       "</tr>\n",
       "</table>\n",
       "<table class=\"simpletable\">\n",
       "<tr>\n",
       "    <td></td>       <th>coef</th>     <th>std err</th>      <th>t</th>      <th>P>|t|</th>  <th>[0.025</th>    <th>0.975]</th>  \n",
       "</tr>\n",
       "<tr>\n",
       "  <th>const</th> <td>    0.8852</td> <td>    0.379</td> <td>    2.333</td> <td> 0.032</td> <td>    0.085</td> <td>    1.686</td>\n",
       "</tr>\n",
       "<tr>\n",
       "  <th>x</th>     <td>   -2.2326</td> <td>    1.758</td> <td>   -1.270</td> <td> 0.221</td> <td>   -5.942</td> <td>    1.477</td>\n",
       "</tr>\n",
       "<tr>\n",
       "  <th>x2</th>    <td>    0.5587</td> <td>    1.697</td> <td>    0.329</td> <td> 0.746</td> <td>   -3.022</td> <td>    4.140</td>\n",
       "</tr>\n",
       "</table>\n",
       "<table class=\"simpletable\">\n",
       "<tr>\n",
       "  <th>Omnibus:</th>       <td> 1.146</td> <th>  Durbin-Watson:     </th> <td>   1.109</td>\n",
       "</tr>\n",
       "<tr>\n",
       "  <th>Prob(Omnibus):</th> <td> 0.564</td> <th>  Jarque-Bera (JB):  </th> <td>   1.040</td>\n",
       "</tr>\n",
       "<tr>\n",
       "  <th>Skew:</th>          <td> 0.412</td> <th>  Prob(JB):          </th> <td>   0.595</td>\n",
       "</tr>\n",
       "<tr>\n",
       "  <th>Kurtosis:</th>      <td> 2.245</td> <th>  Cond. No.          </th> <td>    20.9</td>\n",
       "</tr>\n",
       "</table><br/><br/>Notes:<br/>[1] Standard Errors assume that the covariance matrix of the errors is correctly specified."
      ],
      "text/latex": [
       "\\begin{center}\n",
       "\\begin{tabular}{lclc}\n",
       "\\toprule\n",
       "\\textbf{Dep. Variable:}    &        y         & \\textbf{  R-squared:         } &     0.441   \\\\\n",
       "\\textbf{Model:}            &       OLS        & \\textbf{  Adj. R-squared:    } &     0.375   \\\\\n",
       "\\textbf{Method:}           &  Least Squares   & \\textbf{  F-statistic:       } &     6.704   \\\\\n",
       "\\textbf{Date:}             & Thu, 21 Nov 2024 & \\textbf{  Prob (F-statistic):} &  0.00714    \\\\\n",
       "\\textbf{Time:}             &     12:27:25     & \\textbf{  Log-Likelihood:    } &   -17.289   \\\\\n",
       "\\textbf{No. Observations:} &          20      & \\textbf{  AIC:               } &     40.58   \\\\\n",
       "\\textbf{Df Residuals:}     &          17      & \\textbf{  BIC:               } &     43.57   \\\\\n",
       "\\textbf{Df Model:}         &           2      & \\textbf{                     } &             \\\\\n",
       "\\textbf{Covariance Type:}  &    nonrobust     & \\textbf{                     } &             \\\\\n",
       "\\bottomrule\n",
       "\\end{tabular}\n",
       "\\begin{tabular}{lcccccc}\n",
       "               & \\textbf{coef} & \\textbf{std err} & \\textbf{t} & \\textbf{P$> |$t$|$} & \\textbf{[0.025} & \\textbf{0.975]}  \\\\\n",
       "\\midrule\n",
       "\\textbf{const} &       0.8852  &        0.379     &     2.333  &         0.032        &        0.085    &        1.686     \\\\\n",
       "\\textbf{x}     &      -2.2326  &        1.758     &    -1.270  &         0.221        &       -5.942    &        1.477     \\\\\n",
       "\\textbf{x2}    &       0.5587  &        1.697     &     0.329  &         0.746        &       -3.022    &        4.140     \\\\\n",
       "\\bottomrule\n",
       "\\end{tabular}\n",
       "\\begin{tabular}{lclc}\n",
       "\\textbf{Omnibus:}       &  1.146 & \\textbf{  Durbin-Watson:     } &    1.109  \\\\\n",
       "\\textbf{Prob(Omnibus):} &  0.564 & \\textbf{  Jarque-Bera (JB):  } &    1.040  \\\\\n",
       "\\textbf{Skew:}          &  0.412 & \\textbf{  Prob(JB):          } &    0.595  \\\\\n",
       "\\textbf{Kurtosis:}      &  2.245 & \\textbf{  Cond. No.          } &     20.9  \\\\\n",
       "\\bottomrule\n",
       "\\end{tabular}\n",
       "%\\caption{OLS Regression Results}\n",
       "\\end{center}\n",
       "\n",
       "Notes: \\newline\n",
       " [1] Standard Errors assume that the covariance matrix of the errors is correctly specified."
      ],
      "text/plain": [
       "<class 'statsmodels.iolib.summary.Summary'>\n",
       "\"\"\"\n",
       "                            OLS Regression Results                            \n",
       "==============================================================================\n",
       "Dep. Variable:                      y   R-squared:                       0.441\n",
       "Model:                            OLS   Adj. R-squared:                  0.375\n",
       "Method:                 Least Squares   F-statistic:                     6.704\n",
       "Date:                Thu, 21 Nov 2024   Prob (F-statistic):            0.00714\n",
       "Time:                        12:27:25   Log-Likelihood:                -17.289\n",
       "No. Observations:                  20   AIC:                             40.58\n",
       "Df Residuals:                      17   BIC:                             43.57\n",
       "Df Model:                           2                                         \n",
       "Covariance Type:            nonrobust                                         \n",
       "==============================================================================\n",
       "                 coef    std err          t      P>|t|      [0.025      0.975]\n",
       "------------------------------------------------------------------------------\n",
       "const          0.8852      0.379      2.333      0.032       0.085       1.686\n",
       "x             -2.2326      1.758     -1.270      0.221      -5.942       1.477\n",
       "x2             0.5587      1.697      0.329      0.746      -3.022       4.140\n",
       "==============================================================================\n",
       "Omnibus:                        1.146   Durbin-Watson:                   1.109\n",
       "Prob(Omnibus):                  0.564   Jarque-Bera (JB):                1.040\n",
       "Skew:                           0.412   Prob(JB):                        0.595\n",
       "Kurtosis:                       2.245   Cond. No.                         20.9\n",
       "==============================================================================\n",
       "\n",
       "Notes:\n",
       "[1] Standard Errors assume that the covariance matrix of the errors is correctly specified.\n",
       "\"\"\""
      ]
     },
     "execution_count": 19,
     "metadata": {},
     "output_type": "execute_result"
    }
   ],
   "source": [
    "Poly = ['x','x2']\n",
    "X = data[Poly]\n",
    "X = sm.add_constant(X)\n",
    "model = sm.OLS(y, X).fit()\n",
    "model.summary()"
   ]
  },
  {
   "cell_type": "markdown",
   "metadata": {
    "id": "NEyF7UVZVzOi"
   },
   "source": [
    "In the following cells:\n",
    "1. Obtain the MLEs and 97.5\\% confidence intervals for the 3rd order polynomial without using the scikit function.\n",
    "2. Check your answers against the statsmodels corresponding function (.OLS)"
   ]
  },
  {
   "cell_type": "code",
   "execution_count": 20,
   "metadata": {
    "colab": {
     "base_uri": "https://localhost:8080/"
    },
    "id": "W2DAx-X3VzOi",
    "outputId": "c812010b-92d9-4eef-8f6a-4e456f3f0f2a"
   },
   "outputs": [
    {
     "name": "stdout",
     "output_type": "stream",
     "text": [
      "Manual Calculation Results:\n",
      "           coefficient        se  lower 95% bound  upper 95% bound\n",
      "intercept    -0.010460  0.290987        -0.627324         0.606404\n",
      "x            10.124663  2.586393         4.641755        15.607572\n",
      "x2          -31.139397  6.102501       -44.076122       -18.202672\n",
      "x3           21.132068  4.006810        12.638011        29.626125\n"
     ]
    }
   ],
   "source": [
    "# Expand the data to include powers of x up to 3 for 3rd order polynomial\n",
    "npower = 3\n",
    "predictors = ['x0', 'x']\n",
    "predictors.extend(['x%d' % i for i in range(2, npower + 1)])\n",
    "X = data[predictors]\n",
    "y = data['y']\n",
    "\n",
    "# Calculate the MLE coefficients manually\n",
    "XtX = X.T.dot(X)\n",
    "XtX_inv = sc.linalg.inv(XtX)\n",
    "beta = XtX_inv.dot(X.T.dot(y))\n",
    "\n",
    "# Calculate residuals, sigma^2_hat, and variance-covariance matrix\n",
    "n, p = X.shape\n",
    "e = y - X.dot(beta)\n",
    "sigma2_hat = e.T.dot(e) / (n - p)\n",
    "var_beta = sigma2_hat * XtX_inv\n",
    "\n",
    "# Calculate 97.5% confidence intervals\n",
    "tval = sc.stats.t.ppf(0.975, n - p)\n",
    "std_beta = np.sqrt(np.diag(var_beta))\n",
    "lower95 = beta - tval * std_beta\n",
    "upper95 = beta + tval * std_beta\n",
    "\n",
    "# Present the results as a pandas DataFrame\n",
    "col = ['coefficient', 'se', 'lower 95% bound', 'upper 95% bound']\n",
    "ind = ['intercept', 'x', 'x2', 'x3']\n",
    "results = pd.DataFrame(np.column_stack([beta, std_beta, lower95, upper95]), columns=col, index=ind)\n",
    "\n",
    "# Display the manual results\n",
    "print(\"Manual Calculation Results:\")\n",
    "print(results)\n"
   ]
  },
  {
   "cell_type": "code",
   "execution_count": 21,
   "metadata": {
    "colab": {
     "base_uri": "https://localhost:8080/"
    },
    "id": "BKv9vAyrVzOi",
    "outputId": "78204420-c0b2-46fa-b786-c16468357176"
   },
   "outputs": [
    {
     "name": "stdout",
     "output_type": "stream",
     "text": [
      "\n",
      "Statsmodels OLS Results:\n",
      "                            OLS Regression Results                            \n",
      "==============================================================================\n",
      "Dep. Variable:                      y   R-squared:                       0.796\n",
      "Model:                            OLS   Adj. R-squared:                  0.758\n",
      "Method:                 Least Squares   F-statistic:                     20.79\n",
      "Date:                Thu, 21 Nov 2024   Prob (F-statistic):           9.12e-06\n",
      "Time:                        12:27:44   Log-Likelihood:                -7.2153\n",
      "No. Observations:                  20   AIC:                             22.43\n",
      "Df Residuals:                      16   BIC:                             26.41\n",
      "Df Model:                           3                                         \n",
      "Covariance Type:            nonrobust                                         \n",
      "==============================================================================\n",
      "                 coef    std err          t      P>|t|      [0.025      0.975]\n",
      "------------------------------------------------------------------------------\n",
      "const         -0.0105      0.291     -0.036      0.972      -0.627       0.606\n",
      "x             10.1247      2.586      3.915      0.001       4.642      15.608\n",
      "x2           -31.1394      6.103     -5.103      0.000     -44.076     -18.203\n",
      "x3            21.1321      4.007      5.274      0.000      12.638      29.626\n",
      "==============================================================================\n",
      "Omnibus:                        0.301   Durbin-Watson:                   2.750\n",
      "Prob(Omnibus):                  0.860   Jarque-Bera (JB):                0.470\n",
      "Skew:                           0.142   Prob(JB):                        0.790\n",
      "Kurtosis:                       2.305   Cond. No.                         109.\n",
      "==============================================================================\n",
      "\n",
      "Notes:\n",
      "[1] Standard Errors assume that the covariance matrix of the errors is correctly specified.\n"
     ]
    }
   ],
   "source": [
    "# Verify using statsmodels OLS\n",
    "Poly = ['x', 'x2', 'x3']\n",
    "X = data[Poly]\n",
    "X = sm.add_constant(X)  # Add the intercept term\n",
    "model = sm.OLS(y, X).fit()\n",
    "print(\"\\nStatsmodels OLS Results:\")\n",
    "print(model.summary())"
   ]
  },
  {
   "cell_type": "markdown",
   "metadata": {
    "id": "yV9OOtPoVzOi"
   },
   "source": [
    "We will now put all the previous talk into a function. In other words we will create our own function rather than using the stasmodels/scikit learn ones.\n",
    "\n",
    "The inputs of the function will be $X$, $y$ and the names of the predictors. The output will be a data frame with the results (MLE's, se's and 95\\% CI's).\n",
    "\n",
    "Write this function  below."
   ]
  },
  {
   "cell_type": "code",
   "execution_count": 22,
   "metadata": {
    "colab": {
     "base_uri": "https://localhost:8080/"
    },
    "id": "V9fZxinyVzOi",
    "outputId": "00705696-f9c6-4327-a433-1cba05547657"
   },
   "outputs": [
    {
     "name": "stdout",
     "output_type": "stream",
     "text": [
      "    coefficient        se  lower 95% bound  upper 95% bound\n",
      "x0    -0.010460  0.290987        -0.627324         0.606404\n",
      "x     10.124663  2.586393         4.641755        15.607572\n",
      "x2   -31.139397  6.102501       -44.076122       -18.202672\n",
      "x3    21.132068  4.006810        12.638011        29.626125\n"
     ]
    }
   ],
   "source": [
    "import numpy as np\n",
    "import pandas as pd\n",
    "import scipy as sc\n",
    "\n",
    "def compute_mle_1(X, y, predictor_names):\n",
    "\n",
    "    # Ensure y is a numpy array\n",
    "    y = np.array(y)\n",
    "\n",
    "    # Compute (X^T * X) and its inverse\n",
    "    XtX = X.T.dot(X)\n",
    "    XtX_inv = sc.linalg.inv(XtX)\n",
    "\n",
    "    # Compute MLE coefficients\n",
    "    beta = XtX_inv.dot(X.T.dot(y))\n",
    "\n",
    "    # Compute residuals and sigma^2_hat\n",
    "    n, p = X.shape\n",
    "    e = y - X.dot(beta)\n",
    "    sigma2_hat = e.T.dot(e) / (n - p)\n",
    "\n",
    "    # Variance-covariance matrix\n",
    "    var_beta = sigma2_hat * XtX_inv\n",
    "\n",
    "    # Standard errors and 95% confidence intervals\n",
    "    std_beta = np.sqrt(np.diag(var_beta))\n",
    "    tval = sc.stats.t.ppf(0.975, n - p)\n",
    "    lower95 = beta - tval * std_beta\n",
    "    upper95 = beta + tval * std_beta\n",
    "\n",
    "    # Create results DataFrame\n",
    "    results = pd.DataFrame(\n",
    "        np.column_stack([beta, std_beta, lower95, upper95]),\n",
    "        columns=['coefficient', 'se', 'lower 95% bound', 'upper 95% bound'],\n",
    "        index=predictor_names\n",
    "    )\n",
    "\n",
    "    return results\n",
    "\n",
    "# Example usage\n",
    "# Assuming `data` is our DataFrame and we want to use up to 3rd order polynomial predictors\n",
    "predictors = ['x0', 'x', 'x2', 'x3']\n",
    "X = data[predictors]\n",
    "y = data['y']\n",
    "\n",
    "# Call the function\n",
    "results = compute_mle_1(X, y, predictors)\n",
    "\n",
    "# Display the results\n",
    "print(results)\n"
   ]
  },
  {
   "cell_type": "markdown",
   "metadata": {
    "id": "265eEN9SVzOi"
   },
   "source": [
    "### Bayesian Linear Regression\n",
    "\n",
    "We now turn to Bayesian inference. As before we will illustrate and then create a function that provides summaries of the posterior (Bayes estimates of $\\beta$ and 95\\% Credible Intervals).\n",
    "\n",
    "We start by calculating the posterior parameters that correspond to the unit information prior.\n",
    "\n",
    "Given $\\sigma^2$ and a **prior** of N($\\mu_0,\\sigma^2\\Omega_0)$, the **posterior** $\\pi(\\beta|X,y,\\sigma^2)$ is N($\\mu_n,\\sigma^2\\Omega_n^2$) where\n",
    "\n",
    "$$\\mu_n = (X^T X+\\Omega_0^{-1})^{-1} (\\Omega_0^{-1}\\mu_0 +X^{T}y)$$\n",
    "$$\\Omega_n =(X^T X +\\Omega_0^{-1})^{-1}$$\n",
    "\n",
    "To assign the unit information prior we set $\\Omega_0 = n(X^T X)^{-1}$ or else $\\Omega_0^{-1}=X^T X / n$.\n",
    "\n",
    "For $\\sigma^2$ if we set the **prior** IGamma$(a_0,b_0)$ we get the **posterior** IGamma$(a_n,b_n)$ where\n",
    "$$\n",
    "a_n = a_0+\\frac{n}{2}\n",
    "$$\n",
    "$$\n",
    "b_n = b_0+\\frac{1}{2} (y^T y + \\mu_0^T\\Omega_0^{-1}\\mu_0 -\\mu_n^T\\Omega_n^{-1}\\mu_n).\n",
    "$$"
   ]
  },
  {
   "cell_type": "markdown",
   "metadata": {
    "id": "X7w9EGpAVzOi"
   },
   "source": [
    "Calculate posterior parameters in the following cell"
   ]
  },
  {
   "cell_type": "code",
   "execution_count": 23,
   "metadata": {
    "colab": {
     "base_uri": "https://localhost:8080/"
    },
    "id": "9IQXCn2IVzOi",
    "outputId": "56ed37cd-71c0-4046-82e6-c8c79a57816f"
   },
   "outputs": [
    {
     "name": "stdout",
     "output_type": "stream",
     "text": [
      "Posterior Mean (mu_n):\n",
      " [-9.96183048e-03  9.64253662e+00 -2.96565687e+01  2.01257788e+01]\n",
      "\n",
      "Inverse of Posterior Covariance (Om_n_inv):\n",
      " [[21.         10.5         7.18421053  5.52631579]\n",
      " [10.5         7.18421053  5.52631579  4.53341595]\n",
      " [ 7.18421053  5.52631579  4.53341595  3.87301356]\n",
      " [ 5.52631579  4.53341595  3.87301356  3.40260608]]\n",
      "\n",
      "Posterior Shape Parameter (a_n): 11.0\n",
      "\n",
      "Posterior Scale Parameter (b_n): 2.4290992050004583\n"
     ]
    }
   ],
   "source": [
    "import numpy as np\n",
    "import scipy as sc\n",
    "\n",
    "def calculate_posterior_params(X, y, sigma2, mu0, Om0_inv, a0, b0):\n",
    "    \"\"\"\n",
    "\n",
    "    Parameters:\n",
    "        X (np.ndarray): Design matrix (n x p).\n",
    "        y (np.ndarray): Response variable (n x 1).\n",
    "        sigma2 (float): Known variance of the errors.\n",
    "        mu0 (np.ndarray): Prior mean vector (p x 1).\n",
    "        Om0_inv (np.ndarray): Inverse of prior covariance matrix (p x p).\n",
    "        a0 (float): Shape parameter for the prior IGamma distribution.\n",
    "        b0 (float): Scale parameter for the prior IGamma distribution.\n",
    "\n",
    "    Returns:\n",
    "        dict: Posterior parameters including:\n",
    "              - mu_n: Posterior mean (p x 1).\n",
    "              - Om_n_inv: Inverse of posterior covariance matrix (p x p).\n",
    "              - a_n: Shape parameter of posterior IGamma.\n",
    "              - b_n: Scale parameter of posterior IGamma.\n",
    "    \"\"\"\n",
    "    # Dimensions of the design matrix\n",
    "    n, p = X.shape\n",
    "\n",
    "    # Calculate posterior covariance matrix inverse\n",
    "    XtX = X.T.dot(X)\n",
    "    Om_n_inv = XtX + Om0_inv\n",
    "\n",
    "    # Calculate posterior mean\n",
    "    mu_n = np.linalg.inv(Om_n_inv).dot(Om0_inv.dot(mu0) + X.T.dot(y))\n",
    "\n",
    "    # Calculate posterior shape and scale parameters\n",
    "    a_n = a0 + n / 2\n",
    "    b_n = b0 + 0.5 * (y.T.dot(y) + mu0.T.dot(Om0_inv).dot(mu0) - mu_n.T.dot(Om_n_inv).dot(mu_n))\n",
    "\n",
    "    return {\n",
    "        \"mu_n\": mu_n,\n",
    "        \"Om_n_inv\": Om_n_inv,\n",
    "        \"a_n\": a_n,\n",
    "        \"b_n\": b_n\n",
    "    }\n",
    "\n",
    "# Example Usage\n",
    "\n",
    "predictors = ['x0', 'x', 'x2', 'x3']\n",
    "X = data[predictors].to_numpy()  # Convert to numpy array\n",
    "y = data['y'].to_numpy()         # Convert response to numpy array\n",
    "\n",
    "# Example Inputs for Bayesian inference\n",
    "n, p = X.shape                  # Dimensions of X\n",
    "sigma2 = 1.0                    # Assumed known variance\n",
    "mu0 = np.zeros(p)               # Prior mean vector\n",
    "Om0_inv = (X.T @ X) / n      # Unit information prior inverse covariance matrix\n",
    "a0 = 1.0                        # Prior IGamma shape parameter\n",
    "b0 = 1.0                        # Prior IGamma scale parameter\n",
    "\n",
    "# Calculate posterior parameters\n",
    "posterior_params = calculate_posterior_params(X, y, sigma2, mu0, Om0_inv, a0, b0)\n",
    "\n",
    "a_n = posterior_params[\"a_n\"]\n",
    "b_n = posterior_params[\"b_n\"]\n",
    "Om_n = np.linalg.inv(posterior_params[\"Om_n_inv\"])\n",
    "mu_n = posterior_params[\"mu_n\"]\n",
    "\n",
    "bayesian_posterior_params = {\n",
    "    \"a_n\": a_n,\n",
    "    \"b_n\": b_n,\n",
    "    \"mu_n\": mu_n,\n",
    "    \"Om_n_inv\": posterior_params[\"Om_n_inv\"],\n",
    "    \"Om_n\": Om_n\n",
    "}\n",
    "\n",
    "# Display results\n",
    "print(\"Posterior Mean (mu_n):\\n\", posterior_params[\"mu_n\"])\n",
    "print(\"\\nInverse of Posterior Covariance (Om_n_inv):\\n\", posterior_params[\"Om_n_inv\"])\n",
    "print(\"\\nPosterior Shape Parameter (a_n):\", posterior_params[\"a_n\"])\n",
    "print(\"\\nPosterior Scale Parameter (b_n):\", posterior_params[\"b_n\"])\n"
   ]
  },
  {
   "cell_type": "markdown",
   "metadata": {
    "id": "HwO7kgOtVzOi"
   },
   "source": [
    "#### Monte Carlo for credible intervals\n",
    "\n",
    "To obtain credible intervals for $\\beta$ we could use the $t$ distribution. But we would use Monte Carlo instead as this will cover more general models. e.g. logistic regression.\n",
    "\n",
    "So we will sample $N$ Monte Carlo samples from $\\pi(\\beta|y)$ and use them  for Monte Carlo inference (credible intervals, density plots etc)\n",
    "\n",
    "Monte Carlo Samples can be drawn by\n",
    "\n",
    "1. Generating samples $\\sigma_i^2$ from IGamma$(\\alpha_n,\\beta_n)$, $i=1,\\dots,N$,\n",
    "2. Draw $\\beta_i$ sample based on each $\\sigma_i^2$ from N($\\mu_n,\\sigma^2\\Omega_n^2$)"
   ]
  },
  {
   "cell_type": "code",
   "execution_count": 24,
   "metadata": {
    "colab": {
     "base_uri": "https://localhost:8080/"
    },
    "id": "KabhsE9_VzOi",
    "outputId": "5462a5dd-6582-4d0a-9eea-f5b457a7b2f1"
   },
   "outputs": [
    {
     "data": {
      "text/plain": [
       "(array([-9.26540089e-03,  9.63916291e+00, -2.96427090e+01,  2.01119925e+01]),\n",
       " array([ -0.72639086,   3.28655819, -44.59220543,  10.18665178]),\n",
       " array([  0.68855497,  15.96457054, -14.42480629,  29.85965836]))"
      ]
     },
     "execution_count": 24,
     "metadata": {},
     "output_type": "execute_result"
    }
   ],
   "source": [
    "#Calculate 95% credible intervals\n",
    "N = 10000 #number of Monte Carlo samples\n",
    "sigma2 = 1/np.random.gamma(a_n, 1/b_n, N)\n",
    "betas = np.zeros((N,p))\n",
    "# draw N samples from the marginal posterior of beta\n",
    "for i in range(0,N):\n",
    "    s2 =sigma2[i]\n",
    "    cov = s2*Om_n\n",
    "    betas[i,] = np.random.multivariate_normal(mu_n,cov,1)\n",
    "\n",
    "#find the mean of each column which corresponds to each beta coefficient\n",
    "mu_beta = np.mean(betas, axis=0)\n",
    "#find the 2.5 and 97.5 percentils which correspond to each beta coefficient\n",
    "lower95 = np.percentile(betas,2.5,axis=0)\n",
    "upper95 = np.percentile(betas,97.5,axis=0)\n",
    "mu_beta, lower95, upper95"
   ]
  },
  {
   "cell_type": "markdown",
   "metadata": {
    "id": "wU4g629XVzOi"
   },
   "source": [
    "As before we put it all in a function. This is quite handy as it is hard to find such a function in Python!!As before we put it all in a function. This is quite handy as it is hard to find such a function in Python!!"
   ]
  },
  {
   "cell_type": "code",
   "execution_count": 25,
   "metadata": {
    "id": "xJfRYDVlVzOi"
   },
   "outputs": [],
   "source": [
    "# function for Bayesian Linear regression, return posterior mean and 95% CIs\n",
    "def BLR(X,y,mu_0,Om_0_inv,a_0,b_0,ind_names,N):\n",
    "    col_names = ['posterior mean','lower 95% bound','upper 95% bound']\n",
    "    n,p = X.shape\n",
    "    XtX = X.T.dot(X)\n",
    "    Om_n_inv = XtX + Om_0_inv\n",
    "    Om_n = sc.linalg.inv(Om_n_inv)\n",
    "    term1 = Om_0_inv.dot(mu_0)+X.T.dot(y)\n",
    "    mu_n = Om_n.dot(term1)\n",
    "    a_n = a_0 + n/2\n",
    "    term2 = y.T.dot(y)+mu_0.dot(Om_0_inv.dot(mu_0))-mu_n.dot(Om_n_inv.dot(mu_n))\n",
    "    b_n = b_0 + term2/2\n",
    "    sigma2 = 1/np.random.gamma(a_n, 1/b_n, N)\n",
    "    betas = np.zeros((N,p))\n",
    "    # draw N samples from the marginal posterior of beta\n",
    "    for i in range(0,N):\n",
    "        s2 =sigma2[i]\n",
    "        cov = s2*Om_n\n",
    "        betas[i,] = np.random.multivariate_normal(mu_n,cov,1)\n",
    "\n",
    "    #find the mean of each column which corresponds to each beta coefficient\n",
    "    mu_beta = np.mean(betas, axis=0)\n",
    "    #find the 2.5 and 97.5 percentils which correspond to each beta coefficient\n",
    "    lower95 = np.percentile(betas,2.5,axis=0)\n",
    "    upper95 = np.percentile(betas,97.5,axis=0)\n",
    "    results = np.column_stack([mu_beta,lower95,upper95])\n",
    "    results = pd.DataFrame(results,columns = col_names,index=ind_names)\n",
    "    return results, mu_n, Om_n, a_n, b_n"
   ]
  },
  {
   "cell_type": "markdown",
   "metadata": {
    "id": "WV3V9r6NVzOj"
   },
   "source": [
    "### Marginal likelihood / Model Evidence\n",
    "\n",
    "Finally we will calculate the marginal likelihood / model evidence of a given model. We will use the following trick covered in the lecture\n",
    "\n",
    "We can write\n",
    "$$\n",
    "\\pi(\\beta,\\sigma^2|y,X)=\\frac{\\pi(y|\\beta,\\sigma^2,X)\\pi(\\beta,\\sigma^2)}{\\pi(y|X)},\n",
    "$$\n",
    "or else\n",
    "$$\n",
    "\\pi(y|X)=\\frac{\\pi(y|\\beta,\\sigma^2,X)\\pi(\\beta,\\sigma^2)}{\\pi(\\beta,\\sigma^2|y,X)},\n",
    "$$\n",
    "for all $\\beta, \\sigma^2$.\n",
    "\n",
    "The expression above contains known Normal and Inverse Gamma pdfs so we can just evaluate for -say- the posterior mean of $\\beta$, $\\sigma^2$.\n",
    "\n",
    "The calculation involves the following steps\n",
    "\n",
    "1. Specify data and prior\n",
    "2. get the parameters of the posteriod distribution\n",
    "3. evaluate the log-likelihood, log-prior and log-posterior at the posterior mean\n",
    "4. The log-evidence is equal to log-likelihood + log-prior - log-posterior"
   ]
  },
  {
   "cell_type": "code",
   "execution_count": 26,
   "metadata": {
    "colab": {
     "base_uri": "https://localhost:8080/"
    },
    "id": "j9HVx05oVzOj",
    "outputId": "cc6f6d25-12c4-4268-9d3f-7ad4ba5e2df6"
   },
   "outputs": [
    {
     "data": {
      "text/plain": [
       "-18.21251591383701"
      ]
     },
     "execution_count": 26,
     "metadata": {},
     "output_type": "execute_result"
    }
   ],
   "source": [
    "# Step 1\n",
    "npower = 3\n",
    "predictors = ['x0','x']\n",
    "predictors.extend(['x%d'%i for i in range(2,npower+1)])\n",
    "X = data[predictors]\n",
    "y = data['y']\n",
    "n,p = X.shape\n",
    "\n",
    "# Step 2\n",
    "mu_0 = np.zeros(p)\n",
    "XtX = X.T.dot(X)\n",
    "Om_0_inv = XtX/n #unit information prior\n",
    "a_0 = 0.1\n",
    "b_0 = 0.1\n",
    "N=10000 #Monte Carlo sample size\n",
    "results, mu_n, Om_n, a_n, b_n = BLR(X,y,mu_0,Om_0_inv,a_0,b_0,predictors,N)\n",
    "\n",
    "# Step 3\n",
    "# evaluate log-likelihood\n",
    "beta = mu_n\n",
    "sigma2 = b_n/(a_n-1)\n",
    "Om_0 = sc.linalg.inv(Om_0_inv)\n",
    "mu = X.dot(beta)\n",
    "cov = sigma2*np.eye(n)\n",
    "ll = sc.stats.multivariate_normal.logpdf(y,mu,cov)\n",
    "# evaluate log-prior\n",
    "lprior = a_0*np.log(b_0)-sc.special.loggamma(a_0)- (a_0+1)*np.log(sigma2)-b_0/sigma2\n",
    "lprior = lprior + sc.stats.multivariate_normal.logpdf(beta,mu_0,sigma2*Om_0)\n",
    "# evaluate log-posterior\n",
    "lpost = a_n*np.log(b_n)-sc.special.loggamma(a_n)- (a_n+1)*np.log(sigma2)-b_n/sigma2\n",
    "lpost = lpost + sc.stats.multivariate_normal.logpdf(beta,mu_n,sigma2*Om_n)\n",
    "\n",
    "lmodevid = ll+lprior-lpost\n",
    "lmodevid"
   ]
  },
  {
   "cell_type": "markdown",
   "metadata": {
    "id": "au0JdWzFVzOj"
   },
   "source": [
    "Let's make it a function. Again not easy to find such a function, keep it!"
   ]
  },
  {
   "cell_type": "code",
   "execution_count": 28,
   "metadata": {
    "id": "Q9XzLDicVzOj"
   },
   "outputs": [],
   "source": [
    "def ModEvidence(X,y,mu_n,Om_n,mu_0,Om_0_inv,a_n,b_n,a_0,b_0):\n",
    "    beta = mu_n\n",
    "    sigma2 = b_n/(a_n-1)\n",
    "    Om_0 = sc.linalg.inv(Om_0_inv)\n",
    "    mu = X.dot(beta)\n",
    "    cov = sigma2*np.eye(X.shape[0])\n",
    "    ll = sc.stats.multivariate_normal.logpdf(y,mu,cov)\n",
    "    # evaluate log-prior\n",
    "    lprior = a_0*np.log(b_0)-sc.special.loggamma(a_0)- (a_0+1)*np.log(sigma2)-b_0/sigma2\n",
    "    lprior = lprior + sc.stats.multivariate_normal.logpdf(beta,mu_0,sigma2*Om_0)\n",
    "    # evaluate log-posterior\n",
    "    lpost = a_n*np.log(b_n)-sc.special.loggamma(a_n)- (a_n+1)*np.log(sigma2)-b_n/sigma2\n",
    "    lpost = lpost +sc.stats.multivariate_normal.logpdf(beta,mu_n,sigma2*Om_n)\n",
    "    lmodevid = ll+lprior-lpost\n",
    "    return lmodevid"
   ]
  },
  {
   "cell_type": "markdown",
   "metadata": {
    "id": "9ygUrsoVVzOj"
   },
   "source": [
    "Now to get the evidence for a model we can simply use the code below"
   ]
  },
  {
   "cell_type": "code",
   "execution_count": 29,
   "metadata": {
    "colab": {
     "base_uri": "https://localhost:8080/"
    },
    "id": "ASW7UPwEVzOj",
    "outputId": "012cd6a0-35f4-4c4c-9a6b-d17333b043eb"
   },
   "outputs": [
    {
     "data": {
      "text/plain": [
       "-25.122117003562504"
      ]
     },
     "execution_count": 29,
     "metadata": {},
     "output_type": "execute_result"
    }
   ],
   "source": [
    "# Data\n",
    "npower = 2\n",
    "predictors = ['x0','x']\n",
    "predictors.extend(['x%d'%i for i in range(2,npower+1)])\n",
    "X = data[predictors]\n",
    "y = data['y']\n",
    "n,p = X.shape\n",
    "\n",
    "# Prior\n",
    "mu_0 = np.zeros(p)\n",
    "XtX = X.T.dot(X)\n",
    "Om_0_inv = XtX/n #unit information prior\n",
    "a_0 = 0.1\n",
    "b_0 = 0.1\n",
    "\n",
    "# Calculation\n",
    "N=10000 #Monte Carlo sample size\n",
    "results, mu_n, Om_n, a_n, b_n = BLR(X,y,mu_0,Om_0_inv,a_0,b_0,predictors,N)\n",
    "lmodevid = ModEvidence(X,y,mu_n,Om_n,mu_0,Om_0_inv,a_n,b_n,a_0,b_0)\n",
    "lmodevid"
   ]
  },
  {
   "cell_type": "markdown",
   "metadata": {
    "id": "5Kbkb7x0VzOj"
   },
   "source": [
    "Consider polynomials from order 2 to 6. Find the order of polynomial with the highest model evidence."
   ]
  },
  {
   "cell_type": "code",
   "execution_count": 30,
   "metadata": {
    "colab": {
     "base_uri": "https://localhost:8080/"
    },
    "id": "GLBP-hvOVzOj",
    "outputId": "ab15ddfc-4b9a-41af-c428-79eef3e8fe75"
   },
   "outputs": [
    {
     "name": "stdout",
     "output_type": "stream",
     "text": [
      "Model evidences for polynomial orders 2 to 6: [-25.122117003562504, -18.21251591383701, -18.93575902853502, -19.246343841187503, -20.427738548134393]\n",
      "The polynomial order with the highest model evidence: 3\n",
      "Highest model evidence: -18.21251591383701\n"
     ]
    }
   ],
   "source": [
    "# Initialize variables to store results\n",
    "orders = range(2, 7)  # Polynomial orders from 2 to 6\n",
    "model_evidences = []  # To store model evidence for each order\n",
    "\n",
    "for npower in orders:\n",
    "    # Create predictors for the current polynomial order\n",
    "    predictors = ['x0', 'x']\n",
    "    predictors.extend(['x%d' % i for i in range(2, npower + 1)])\n",
    "    X = data[predictors]\n",
    "    y = data['y']\n",
    "    n, p = X.shape\n",
    "\n",
    "    # Define prior parameters\n",
    "    mu_0 = np.zeros(p)\n",
    "    XtX = X.T.dot(X)\n",
    "    Om_0_inv = XtX / n  # Unit information prior\n",
    "    a_0 = 0.1\n",
    "    b_0 = 0.1\n",
    "\n",
    "    # Perform Bayesian Linear Regression\n",
    "    N = 10000  # Monte Carlo sample size\n",
    "    results, mu_n, Om_n, a_n, b_n = BLR(X, y, mu_0, Om_0_inv, a_0, b_0, predictors, N)\n",
    "\n",
    "    # Calculate model evidence\n",
    "    lmodevid = ModEvidence(X, y, mu_n, Om_n, mu_0, Om_0_inv, a_n, b_n, a_0, b_0)\n",
    "    model_evidences.append(lmodevid)\n",
    "\n",
    "# Find the polynomial order with the highest model evidence\n",
    "best_order = orders[np.argmax(model_evidences)]\n",
    "best_evidence = max(model_evidences)\n",
    "\n",
    "# Print results\n",
    "print(f\"Model evidences for polynomial orders 2 to 6: {model_evidences}\")\n",
    "print(f\"The polynomial order with the highest model evidence: {best_order}\")\n",
    "print(f\"Highest model evidence: {best_evidence}\")\n"
   ]
  },
  {
   "cell_type": "markdown",
   "metadata": {
    "id": "suV-ruouVzOj"
   },
   "source": [
    "### Autmobile Bodily Injury Claims Data\n",
    "\n",
    "Source: Insurance Research Council (IRC)\n",
    "\n",
    "The data are automobile injury claims data using data from the Insurance Research Council (IRC), a division of the American Institute for Chartered Property Casualty Underwriters and the Insurance Institute of America. The data, collected in 2002, contains information on the gender of the claimant, attorney involvement, years of driving experience and the economic loss (LOSS, in thousands). A detailed description of the variables in the data is provided below:\n",
    "\n",
    "- Attorney: Whether the claimant is represented by an attorney (=1 if yes and =0 if no)\n",
    "- CLMSEX: Claimant’s gender (=1 if male and =0 if female\n",
    "- CLMAGE: Claimant’s age minus the age driving license was obtained\n",
    "- LOSS: The claimant’s total economic loss (in thousands $)\n",
    "\n",
    "For confidentiality issues we consider here a sample of  simulated data similar to that of a state is considered.\n",
    "\n",
    "The data are in the provided file 'automobileBI.csv'"
   ]
  },
  {
   "cell_type": "code",
   "execution_count": 40,
   "metadata": {
    "id": "ckFBU_IRVzOk",
    "outputId": "81300208-0c72-4874-831c-73302c446042"
   },
   "outputs": [
    {
     "data": {
      "text/html": [
       "<div>\n",
       "<style scoped>\n",
       "    .dataframe tbody tr th:only-of-type {\n",
       "        vertical-align: middle;\n",
       "    }\n",
       "\n",
       "    .dataframe tbody tr th {\n",
       "        vertical-align: top;\n",
       "    }\n",
       "\n",
       "    .dataframe thead th {\n",
       "        text-align: right;\n",
       "    }\n",
       "</style>\n",
       "<table border=\"1\" class=\"dataframe\">\n",
       "  <thead>\n",
       "    <tr style=\"text-align: right;\">\n",
       "      <th></th>\n",
       "      <th>INTERCEPT</th>\n",
       "      <th>ATTORNEY</th>\n",
       "      <th>CLMSEX</th>\n",
       "      <th>CLMAGE</th>\n",
       "      <th>LOSS</th>\n",
       "    </tr>\n",
       "  </thead>\n",
       "  <tbody>\n",
       "    <tr>\n",
       "      <th>0</th>\n",
       "      <td>1.0</td>\n",
       "      <td>1</td>\n",
       "      <td>0</td>\n",
       "      <td>1.8</td>\n",
       "      <td>6.38</td>\n",
       "    </tr>\n",
       "    <tr>\n",
       "      <th>1</th>\n",
       "      <td>1.0</td>\n",
       "      <td>0</td>\n",
       "      <td>0</td>\n",
       "      <td>5.6</td>\n",
       "      <td>0.95</td>\n",
       "    </tr>\n",
       "    <tr>\n",
       "      <th>2</th>\n",
       "      <td>1.0</td>\n",
       "      <td>1</td>\n",
       "      <td>1</td>\n",
       "      <td>1.4</td>\n",
       "      <td>1.88</td>\n",
       "    </tr>\n",
       "    <tr>\n",
       "      <th>3</th>\n",
       "      <td>1.0</td>\n",
       "      <td>0</td>\n",
       "      <td>1</td>\n",
       "      <td>5.4</td>\n",
       "      <td>0.11</td>\n",
       "    </tr>\n",
       "    <tr>\n",
       "      <th>4</th>\n",
       "      <td>1.0</td>\n",
       "      <td>1</td>\n",
       "      <td>0</td>\n",
       "      <td>0.9</td>\n",
       "      <td>6.95</td>\n",
       "    </tr>\n",
       "  </tbody>\n",
       "</table>\n",
       "</div>"
      ],
      "text/plain": [
       "   INTERCEPT  ATTORNEY  CLMSEX  CLMAGE  LOSS\n",
       "0        1.0         1       0     1.8  6.38\n",
       "1        1.0         0       0     5.6  0.95\n",
       "2        1.0         1       1     1.4  1.88\n",
       "3        1.0         0       1     5.4  0.11\n",
       "4        1.0         1       0     0.9  6.95"
      ]
     },
     "execution_count": 40,
     "metadata": {},
     "output_type": "execute_result"
    }
   ],
   "source": [
    "Auto = pd.read_csv(\"automobileBI.csv\")\n",
    "intercept = np.ones(Auto.shape[0])\n",
    "Auto.insert(0, 'INTERCEPT', intercept)\n",
    "Auto.head()"
   ]
  },
  {
   "cell_type": "code",
   "execution_count": 41,
   "metadata": {
    "id": "uIf_ZQMqVzOk",
    "outputId": "233260be-8830-4d5c-d3ac-972c7b78ec35"
   },
   "outputs": [
    {
     "data": {
      "text/html": [
       "<div>\n",
       "<style scoped>\n",
       "    .dataframe tbody tr th:only-of-type {\n",
       "        vertical-align: middle;\n",
       "    }\n",
       "\n",
       "    .dataframe tbody tr th {\n",
       "        vertical-align: top;\n",
       "    }\n",
       "\n",
       "    .dataframe thead th {\n",
       "        text-align: right;\n",
       "    }\n",
       "</style>\n",
       "<table border=\"1\" class=\"dataframe\">\n",
       "  <thead>\n",
       "    <tr style=\"text-align: right;\">\n",
       "      <th></th>\n",
       "      <th>INTERCEPT</th>\n",
       "      <th>ATTORNEY</th>\n",
       "      <th>CLMSEX</th>\n",
       "      <th>CLMAGE</th>\n",
       "      <th>LOSS</th>\n",
       "    </tr>\n",
       "  </thead>\n",
       "  <tbody>\n",
       "    <tr>\n",
       "      <th>count</th>\n",
       "      <td>1296.0</td>\n",
       "      <td>1296.000000</td>\n",
       "      <td>1296.000000</td>\n",
       "      <td>1296.000000</td>\n",
       "      <td>1296.000000</td>\n",
       "    </tr>\n",
       "    <tr>\n",
       "      <th>mean</th>\n",
       "      <td>1.0</td>\n",
       "      <td>0.510802</td>\n",
       "      <td>0.423611</td>\n",
       "      <td>4.885571</td>\n",
       "      <td>4.616821</td>\n",
       "    </tr>\n",
       "    <tr>\n",
       "      <th>std</th>\n",
       "      <td>0.0</td>\n",
       "      <td>0.500076</td>\n",
       "      <td>0.494321</td>\n",
       "      <td>4.586972</td>\n",
       "      <td>7.570060</td>\n",
       "    </tr>\n",
       "    <tr>\n",
       "      <th>min</th>\n",
       "      <td>1.0</td>\n",
       "      <td>0.000000</td>\n",
       "      <td>0.000000</td>\n",
       "      <td>0.100000</td>\n",
       "      <td>0.010000</td>\n",
       "    </tr>\n",
       "    <tr>\n",
       "      <th>25%</th>\n",
       "      <td>1.0</td>\n",
       "      <td>0.000000</td>\n",
       "      <td>0.000000</td>\n",
       "      <td>1.700000</td>\n",
       "      <td>0.637500</td>\n",
       "    </tr>\n",
       "    <tr>\n",
       "      <th>50%</th>\n",
       "      <td>1.0</td>\n",
       "      <td>1.000000</td>\n",
       "      <td>0.000000</td>\n",
       "      <td>3.300000</td>\n",
       "      <td>2.000000</td>\n",
       "    </tr>\n",
       "    <tr>\n",
       "      <th>75%</th>\n",
       "      <td>1.0</td>\n",
       "      <td>1.000000</td>\n",
       "      <td>1.000000</td>\n",
       "      <td>6.600000</td>\n",
       "      <td>5.227500</td>\n",
       "    </tr>\n",
       "    <tr>\n",
       "      <th>max</th>\n",
       "      <td>1.0</td>\n",
       "      <td>1.000000</td>\n",
       "      <td>1.000000</td>\n",
       "      <td>31.300000</td>\n",
       "      <td>76.170000</td>\n",
       "    </tr>\n",
       "  </tbody>\n",
       "</table>\n",
       "</div>"
      ],
      "text/plain": [
       "       INTERCEPT     ATTORNEY       CLMSEX       CLMAGE         LOSS\n",
       "count     1296.0  1296.000000  1296.000000  1296.000000  1296.000000\n",
       "mean         1.0     0.510802     0.423611     4.885571     4.616821\n",
       "std          0.0     0.500076     0.494321     4.586972     7.570060\n",
       "min          1.0     0.000000     0.000000     0.100000     0.010000\n",
       "25%          1.0     0.000000     0.000000     1.700000     0.637500\n",
       "50%          1.0     1.000000     0.000000     3.300000     2.000000\n",
       "75%          1.0     1.000000     1.000000     6.600000     5.227500\n",
       "max          1.0     1.000000     1.000000    31.300000    76.170000"
      ]
     },
     "execution_count": 41,
     "metadata": {},
     "output_type": "execute_result"
    }
   ],
   "source": [
    "Auto.describe()"
   ]
  },
  {
   "cell_type": "code",
   "execution_count": 33,
   "metadata": {
    "id": "d7B978-RVzOn",
    "outputId": "f94026f2-3f32-4965-c3fc-2356907e9f90"
   },
   "outputs": [
    {
     "data": {
      "text/plain": [
       "<seaborn.axisgrid.PairGrid at 0x2033d3845c0>"
      ]
     },
     "execution_count": 33,
     "metadata": {},
     "output_type": "execute_result"
    },
    {
     "data": {
      "image/png": "[encoded data removed]",
      "text/plain": [
       "<Figure size 1000x1000 with 20 Axes>"
      ]
     },
     "metadata": {},
     "output_type": "display_data"
    }
   ],
   "source": [
    "sns.pairplot(Auto)"
   ]
  },
  {
   "cell_type": "markdown",
   "metadata": {
    "id": "1P8-fl7vVzOn"
   },
   "source": [
    "Consider all possible regression models with the LOSS variable as response and some (or all or none) of the other variables present (in their current form, no polynomials). There are 8 such models.\n",
    "\n",
    "Calculate the model evidence for each of them, report the optimal one and present posterior estimates of its coefficients."
   ]
  },
  {
   "cell_type": "code",
   "execution_count": 42,
   "metadata": {},
   "outputs": [
    {
     "name": "stdout",
     "output_type": "stream",
     "text": [
      "['INTERCEPT'] \n",
      "mu_n: [4.61326137] \n",
      "Om_n: [[0.00077101]] \n",
      "a_n: 648.1 \n",
      "b_n: 37116.25855219738 \n",
      "lmodevid: -4470.785914944492 \n",
      "\n",
      "\n",
      "['INTERCEPT', 'ATTORNEY'] \n",
      "mu_n: [2.58935851 3.96220259] \n",
      "Om_n: [[ 0.00157607 -0.00157607]\n",
      " [-0.00157607  0.00308548]] \n",
      "a_n: 648.1 \n",
      "b_n: 34572.23820661567 \n",
      "lmodevid: -4428.352053578861 \n",
      "\n",
      "\n",
      "['INTERCEPT', 'CLMSEX'] \n",
      "mu_n: [ 4.7255104  -0.26498131] \n",
      "Om_n: [[ 0.00133766 -0.00133766]\n",
      " [-0.00133766  0.00315775]] \n",
      "a_n: 648.1 \n",
      "b_n: 37105.14063570627 \n",
      "lmodevid: -4474.175656618392 \n",
      "\n",
      "\n",
      "['INTERCEPT', 'CLMAGE'] \n",
      "mu_n: [ 4.85345889 -0.04916468] \n",
      "Om_n: [[ 1.64634403e-03 -1.79167185e-04]\n",
      " [-1.79167185e-04  3.66727217e-05]] \n",
      "a_n: 648.1 \n",
      "b_n: 37083.302646744014 \n",
      "lmodevid: -4473.794109292986 \n",
      "\n",
      "\n",
      "['INTERCEPT', 'ATTORNEY', 'CLMSEX'] \n",
      "mu_n: [ 2.88589959  4.07771299 -0.83931717] \n",
      "Om_n: [[ 0.00197804 -0.00141949 -0.00113772]\n",
      " [-0.00141949  0.00314647 -0.00044317]\n",
      " [-0.00113772 -0.00044317  0.00322016]] \n",
      "a_n: 648.1 \n",
      "b_n: 34462.85665166981 \n",
      "lmodevid: -4429.882213036676 \n",
      "\n",
      "\n",
      "['INTERCEPT', 'ATTORNEY', 'CLMAGE'] \n",
      "mu_n: [ 2.70853548  3.94937891 -0.02305291] \n",
      "Om_n: [[ 2.55980284e-03 -1.68192252e-03 -1.90287409e-04]\n",
      " [-1.68192252e-03  3.09687016e-03  2.04753128e-05]\n",
      " [-1.90287409e-04  2.04753128e-05  3.68080966e-05]] \n",
      "a_n: 648.1 \n",
      "b_n: 34565.019191229774 \n",
      "lmodevid: -4431.800614535339 \n",
      "\n",
      "\n",
      "['INTERCEPT', 'CLMSEX', 'CLMAGE'] \n",
      "mu_n: [ 4.98312787 -0.28832495 -0.05070622] \n",
      "Om_n: [[ 2.28660208e-03 -1.42364337e-03 -1.86778763e-04]\n",
      " [-1.42364337e-03  3.16553681e-03  1.69246955e-05]\n",
      " [-1.86778763e-04  1.69246955e-05  3.67632104e-05]] \n",
      "a_n: 648.1 \n",
      "b_n: 37070.17197024214 \n",
      "lmodevid: -4477.14849014202 \n",
      "\n",
      "\n",
      "['INTERCEPT', 'ATTORNEY', 'CLMSEX', 'CLMAGE'] \n",
      "mu_n: [ 3.02833284  4.0642232  -0.8497721  -0.02683695] \n",
      "Om_n: [[ 3.01665637e-03 -1.51785918e-03 -1.21396057e-03 -1.95693184e-04]\n",
      " [-1.51785918e-03  3.15578790e-03 -4.35952460e-04  1.85340133e-05]\n",
      " [-1.21396057e-03 -4.35952460e-04  3.22576093e-03  1.43643369e-05]\n",
      " [-1.95693184e-04  1.85340133e-05  1.43643369e-05  3.68720611e-05]] \n",
      "a_n: 648.1 \n",
      "b_n: 34453.09015543429 \n",
      "lmodevid: -4433.282425274716 \n",
      "\n",
      "\n"
     ]
    }
   ],
   "source": [
    "pred_list = [\n",
    "    ['INTERCEPT'],\n",
    "    ['INTERCEPT','ATTORNEY'],\n",
    "    ['INTERCEPT','CLMSEX'],\n",
    "    ['INTERCEPT','CLMAGE'],\n",
    "    ['INTERCEPT','ATTORNEY', 'CLMSEX'],\n",
    "    ['INTERCEPT','ATTORNEY', 'CLMAGE'],\n",
    "    ['INTERCEPT','CLMSEX', 'CLMAGE'],\n",
    "    ['INTERCEPT','ATTORNEY', 'CLMSEX', 'CLMAGE'],\n",
    "]\n",
    "\n",
    "for pred in pred_list:\n",
    "    X = Auto[pred]\n",
    "    # X = sm.add_constant(Auto[list(pred)])\n",
    "    y = Auto['LOSS']\n",
    "    n,p = X.shape\n",
    "\n",
    "    # Prior\n",
    "    mu_0 = np.zeros(p)\n",
    "    XtX = X.T.dot(X)\n",
    "    Om_0_inv = XtX/n #unit information prior\n",
    "    a_0 = 0.1\n",
    "    b_0 = 0.1\n",
    "\n",
    "    # Calculation\n",
    "    N=10000 #Monte Carlo sample size\n",
    "    results, mu_n, Om_n, a_n, b_n = BLR(X,y,mu_0,Om_0_inv,a_0,b_0,pred,N)\n",
    "    lmodevid = ModEvidence(X,y,mu_n,Om_n,mu_0,Om_0_inv,a_n,b_n,a_0,b_0)\n",
    "    print(pred, '\\nmu_n:', mu_n, '\\nOm_n:', Om_n, '\\na_n:', a_n, '\\nb_n:', b_n, '\\nlmodevid:', lmodevid, '\\n\\n')\n",
    "    results"
   ]
  },
  {
   "cell_type": "code",
   "execution_count": 39,
   "metadata": {
    "id": "kwapp0e2VzOo"
   },
   "outputs": [
    {
     "data": {
      "text/plain": [
       "(('ATTORNEY',),\n",
       " 8845.82871438974,\n",
       " <class 'statsmodels.iolib.summary.Summary'>\n",
       " \"\"\"\n",
       "                             OLS Regression Results                            \n",
       " ==============================================================================\n",
       " Dep. Variable:                   LOSS   R-squared:                       0.069\n",
       " Model:                            OLS   Adj. R-squared:                  0.068\n",
       " Method:                 Least Squares   F-statistic:                     95.33\n",
       " Date:                Thu, 21 Nov 2024   Prob (F-statistic):           8.91e-22\n",
       " Time:                        12:39:43   Log-Likelihood:                -4415.7\n",
       " No. Observations:                1296   AIC:                             8835.\n",
       " Df Residuals:                    1294   BIC:                             8846.\n",
       " Df Model:                           1                                         \n",
       " Covariance Type:            nonrobust                                         \n",
       " ==============================================================================\n",
       "                  coef    std err          t      P>|t|      [0.025      0.975]\n",
       " ------------------------------------------------------------------------------\n",
       " const          2.5914      0.290      8.928      0.000       2.022       3.161\n",
       " ATTORNEY       3.9653      0.406      9.764      0.000       3.169       4.762\n",
       " ==============================================================================\n",
       " Omnibus:                     1176.214   Durbin-Watson:                   1.936\n",
       " Prob(Omnibus):                  0.000   Jarque-Bera (JB):            38690.889\n",
       " Skew:                           4.233   Prob(JB):                         0.00\n",
       " Kurtosis:                      28.393   Cond. No.                         2.64\n",
       " ==============================================================================\n",
       " \n",
       " Notes:\n",
       " [1] Standard Errors assume that the covariance matrix of the errors is correctly specified.\n",
       " \"\"\")"
      ]
     },
     "execution_count": 39,
     "metadata": {},
     "output_type": "execute_result"
    }
   ],
   "source": [
    "# Reload the dataset\n",
    "import itertools\n",
    "data = pd.read_csv(\"automobileBI.csv\")\n",
    "\n",
    "# Re-run the model calculations\n",
    "# Define the response and predictors\n",
    "response = 'LOSS'\n",
    "predictors = ['ATTORNEY', 'CLMSEX', 'CLMAGE']\n",
    "\n",
    "# Function to calculate Bayesian Information Criterion (BIC)\n",
    "def calculate_bic(model):\n",
    "    return model.bic\n",
    "\n",
    "# Generate all possible models (combinations of predictors)\n",
    "all_models = []\n",
    "for i in range(len(predictors) + 1):\n",
    "    all_models.extend(itertools.combinations(predictors, i))\n",
    "\n",
    "# Fit models and calculate BIC for each\n",
    "model_results = []\n",
    "for model_vars in all_models:\n",
    "    X = data[list(model_vars)]\n",
    "    X = sm.add_constant(X)  # Add constant for the intercept\n",
    "    y = data[response]\n",
    "    model = sm.OLS(y, X).fit()\n",
    "    bic = calculate_bic(model)\n",
    "    model_results.append((model_vars, bic, model))\n",
    "\n",
    "# Find the model with the lowest BIC\n",
    "optimal_model_info = min(model_results, key=lambda x: x[1])\n",
    "optimal_model_vars, optimal_model_bic, optimal_model = optimal_model_info\n",
    "\n",
    "# Display the optimal model and its coefficients\n",
    "optimal_model_summary = optimal_model.summary()\n",
    "optimal_model_vars , optimal_model_bic , optimal_model_summary\n"
   ]
  },
  {
   "cell_type": "code",
   "execution_count": null,
   "metadata": {},
   "outputs": [],
   "source": []
  }
 ],
 "metadata": {
  "colab": {
   "provenance": []
  },
  "kernelspec": {
   "display_name": "Python 3",
   "language": "python",
   "name": "python3"
  },
  "language_info": {
   "codemirror_mode": {
    "name": "ipython",
    "version": 3
   },
   "file_extension": ".py",
   "mimetype": "text/x-python",
   "name": "python",
   "nbconvert_exporter": "python",
   "pygments_lexer": "ipython3",
   "version": "3.12.2"
  }
 },
 "nbformat": 4,
 "nbformat_minor": 4
}
